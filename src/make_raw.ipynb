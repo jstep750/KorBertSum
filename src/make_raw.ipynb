{
 "cells": [
  {
   "cell_type": "code",
   "execution_count": 1,
   "id": "d8ee97dc-cb27-4fc0-b153-c9938dd737b0",
   "metadata": {},
   "outputs": [
    {
     "data": {
      "text/plain": [
       "['bertopic_부동산_20221201_20221231_crwal_news_context.pkl',\n",
       " 'bertopic_윤석열_20221201_20221215_crwal_news_context.pkl',\n",
       " 'bertopic_부동산_20221201_20221215_crwal_news_context.pkl',\n",
       " 'bertopic_윤석열_20221201_20221203_crwal_news_context.pkl',\n",
       " 'bertopic_삼성전자_20221201_20221231_crwal_news_context.pkl',\n",
       " 'bertopic_삼성전자_20221201_20221215_crwal_news_context.pkl',\n",
       " 'bertopic_부동산_20221201_20221203_crwal_news_context.pkl',\n",
       " 'bertopic_삼성전자_20221201_20221203_crwal_news_context.pkl',\n",
       " 'bertopic_윤석열_20221201_20221231_crwal_news_context.pkl']"
      ]
     },
     "execution_count": 1,
     "metadata": {},
     "output_type": "execute_result"
    }
   ],
   "source": [
    "import os\n",
    "from os import listdir\n",
    "from os.path import isfile, join, isdir\n",
    "mypath = './bertopic(mpnet)/'\n",
    "onlyfiles = [f for f in listdir(mypath) if isfile(join(mypath, f))]\n",
    "onlyfiles"
   ]
  },
  {
   "cell_type": "code",
   "execution_count": 2,
   "id": "73f90a14-d899-45b9-b681-a93cbe496984",
   "metadata": {},
   "outputs": [
    {
     "name": "stdout",
     "output_type": "stream",
     "text": [
      " Untitled.ipynb           \u001b[0m\u001b[01;34mkmeans_4\u001b[0m/\n",
      " Untitled1-Copy1.ipynb    \u001b[01;34mkmeans_8\u001b[0m/\n",
      " Untitled1.ipynb          \u001b[01;34mmodels\u001b[0m/\n",
      " Untitled2.ipynb          \u001b[01;34mothers\u001b[0m/\n",
      " \u001b[01;34m__pycache__\u001b[0m/             \u001b[01;34mprepro\u001b[0m/\n",
      "\u001b[01;34m'bertopic(SR-BERT)'\u001b[0m/      preprocess.py\n",
      "\u001b[01;34m'bertopic(mpnet)'\u001b[0m/        requirements.txt\n",
      "\u001b[01;34m'bertopic(paraphrase)'\u001b[0m/   t_to_p.ipynb\n",
      " distributed.py           \u001b[01;34mtmp\u001b[0m/\n",
      " ext_summary.ipynb        topic_to_paragraph.ipynb\n",
      " ext_summary.py           topic_to_paragraph.py\n",
      " final_sum.ipynb          train.py\n",
      " gg.zip                   untitled.py\n",
      " \u001b[01;34mhdbscan\u001b[0m/                 삼성전자_20221201_20221203_crwal_news_context.csv\n",
      " \u001b[01;34mkmeans_12\u001b[0m/\n"
     ]
    }
   ],
   "source": [
    "ls"
   ]
  },
  {
   "cell_type": "code",
   "execution_count": 40,
   "id": "034639c3-051a-4fd0-9c28-a2f043f77e05",
   "metadata": {},
   "outputs": [
    {
     "data": {
      "text/plain": [
       "['bertopic(paraphrase)',\n",
       " 'bertopic(mpnet)',\n",
       " 'kmeans_12',\n",
       " 'hdbscan',\n",
       " 'kmeans_8',\n",
       " 'bertopic(SR-BERT)',\n",
       " 'kmeans_4']"
      ]
     },
     "execution_count": 40,
     "metadata": {},
     "output_type": "execute_result"
    }
   ],
   "source": [
    "mypath = './'\n",
    "onlydir = set([f for f in listdir(mypath)]) - set([f for f in listdir(mypath) if isfile(join(mypath, f))])\n",
    "onlydir = [f for f in onlydir if f[0] in ['b','h','k']]\n",
    "onlydir "
   ]
  },
  {
   "cell_type": "code",
   "execution_count": 24,
   "id": "31584071-b142-4f25-a693-5f5607b97ae2",
   "metadata": {},
   "outputs": [
    {
     "data": {
      "text/plain": [
       "'/opt/ml/KorBertSum/src'"
      ]
     },
     "execution_count": 24,
     "metadata": {},
     "output_type": "execute_result"
    }
   ],
   "source": [
    "import os \n",
    "os.getcwd()\n",
    "os.chdir(path) "
   ]
  },
  {
   "cell_type": "code",
   "execution_count": 31,
   "id": "f95c4bd6-81f7-481b-9d89-b4c6ed9231ac",
   "metadata": {},
   "outputs": [
    {
     "data": {
      "text/plain": [
       "'./raws/bertopic_부동산_20221201_20221203_crwal_news_context_raw.pkl'"
      ]
     },
     "execution_count": 31,
     "metadata": {},
     "output_type": "execute_result"
    }
   ],
   "source": [
    "shutil.copy('./bertopic(paraphrase)/raw/bertopic_부동산_20221201_20221203_crwal_news_context_raw.pkl', './raws')"
   ]
  },
  {
   "cell_type": "code",
   "execution_count": 34,
   "id": "7b590b14-6f48-47c3-a679-2166458492ef",
   "metadata": {},
   "outputs": [
    {
     "data": {
      "text/plain": [
       "'./rawsbertopic_윤석열_20221201_20221203_crwal_news_context_raw.pkl'"
      ]
     },
     "execution_count": 34,
     "metadata": {},
     "output_type": "execute_result"
    }
   ],
   "source": [
    "import shutil\n",
    "\n",
    "filename = 'bertopic_윤석열_20221201_20221203_crwal_news_context_raw.pkl'\n",
    "src = './bertopic(paraphrase)/raw/'\n",
    "dir = './raws'\n",
    "shutil.copy(src + filename, dir + filename)"
   ]
  },
  {
   "cell_type": "code",
   "execution_count": 48,
   "id": "18af31bb-f765-4ead-af90-9244774444e7",
   "metadata": {},
   "outputs": [
    {
     "name": "stdout",
     "output_type": "stream",
     "text": [
      "bertopic_부동산_20221201_20221215_crwal_news_context_raw.pkl\n",
      "bertopic_윤석열_20221201_20221231_crwal_news_context_raw.pkl\n",
      "bertopic_윤석열_20221201_20221203_crwal_news_context_raw.pkl\n",
      "bertopic_윤석열_20221201_20221215_crwal_news_context_raw.pkl\n",
      "bertopic_삼성전자_20221201_20221215_crwal_news_context_raw.pkl\n",
      "bertopic_삼성전자_20221201_20221231_crwal_news_context_raw.pkl\n",
      "bertopic_삼성전자_20221201_20221203_crwal_news_context_raw.pkl\n",
      "bertopic_부동산_20221201_20221203_crwal_news_context_raw.pkl\n",
      "bertopic_부동산_20221201_20221215_crwal_news_context_raw.pkl\n",
      "bertopic_윤석열_20221201_20221231_crwal_news_context_raw.pkl\n",
      "bertopic_윤석열_20221201_20221203_crwal_news_context_raw.pkl\n",
      "bertopic_윤석열_20221201_20221215_crwal_news_context_raw.pkl\n",
      "bertopic_부동산_20221201_20221231_crwal_news_context_raw.pkl\n",
      "bertopic_삼성전자_20221201_20221215_crwal_news_context_raw.pkl\n",
      "bertopic_삼성전자_20221201_20221231_crwal_news_context_raw.pkl\n",
      "bertopic_삼성전자_20221201_20221203_crwal_news_context_raw.pkl\n",
      "bertopic_부동산_20221201_20221203_crwal_news_context_raw.pkl\n",
      "kmeans_12_삼성전자_20221201_20221215_crwal_news_context_raw.pkl\n",
      "kmeans_12_삼성전자_20221201_20221203_crwal_news_context_raw.pkl\n",
      "kmeans_12_윤석열_20221201_20221215_crwal_news_context_raw.pkl\n",
      "kmeans_12_윤석열_20221201_20221231_crwal_news_context_raw.pkl\n",
      "kmeans_12_윤석열_20221201_20221203_crwal_news_context_raw.pkl\n",
      "kmeans_12_삼성전자_20221201_20221231_crwal_news_context_raw.pkl\n",
      "kmeans_12_부동산_20221201_20221231_crwal_news_context_raw.pkl\n",
      "kmeans_12_부동산_20221201_20221215_crwal_news_context_raw.pkl\n",
      "kmeans_12_부동산_20221201_20221203_crwal_news_context_raw.pkl\n",
      "hdbscan_부동산_20221201_20221231_crwal_news_context_raw.pkl\n",
      "hdbscan_윤석열_20221201_20221231_crwal_news_context_raw.pkl\n",
      "hdbscan_삼성전자_20221201_20221231_crwal_news_context_raw.pkl\n",
      "hdbscan_부동산_20221201_20221215_crwal_news_context_raw.pkl\n",
      "hdbscan_윤석열_20221201_20221215_crwal_news_context_raw.pkl\n",
      "hdbscan_삼성전자_20221201_20221203_crwal_news_context_raw.pkl\n",
      "hdbscan_삼성전자_20221201_20221215_crwal_news_context_raw.pkl\n",
      "hdbscan_부동산_20221201_20221203_crwal_news_context_raw.pkl\n",
      "hdbscan_윤석열_20221201_20221203_crwal_news_context_raw.pkl\n",
      "kmeans_8_삼성전자_20221201_20221231_crwal_news_context_raw.pkl\n",
      "kmeans_8_삼성전자_20221201_20221215_crwal_news_context_raw.pkl\n",
      "kmeans_8_윤석열_20221201_20221203_crwal_news_context_raw.pkl\n",
      "kmeans_8_윤석열_20221201_20221231_crwal_news_context_raw.pkl\n",
      "kmeans_8_부동산_20221201_20221215_crwal_news_context_raw.pkl\n",
      "kmeans_8_윤석열_20221201_20221215_crwal_news_context_raw.pkl\n",
      "kmeans_8_삼성전자_20221201_20221203_crwal_news_context_raw.pkl\n",
      "kmeans_8_부동산_20221201_20221231_crwal_news_context_raw.pkl\n",
      "kmeans_8_부동산_20221201_20221203_crwal_news_context_raw.pkl\n",
      "bertopic_부동산_20221201_20221215_crwal_news_context_raw.pkl\n",
      "bertopic_윤석열_20221201_20221231_crwal_news_context_raw.pkl\n",
      "bertopic_윤석열_20221201_20221203_crwal_news_context_raw.pkl\n",
      "bertopic_윤석열_20221201_20221215_crwal_news_context_raw.pkl\n",
      "bertopic_부동산_20221201_20221231_crwal_news_context_raw.pkl\n",
      "bertopic_삼성전자_20221201_20221215_crwal_news_context_raw.pkl\n",
      "bertopic_삼성전자_20221201_20221231_crwal_news_context_raw.pkl\n",
      "bertopic_삼성전자_20221201_20221203_crwal_news_context_raw.pkl\n",
      "bertopic_부동산_20221201_20221203_crwal_news_context_raw.pkl\n",
      "kmeans_4_부동산_20221201_20221231_crwal_news_context_raw.pkl\n",
      "kmeans_4_부동산_20221201_20221215_crwal_news_context_raw.pkl\n",
      "kmeans_4_윤석열_20221201_20221203_crwal_news_context_raw.pkl\n",
      "kmeans_4_부동산_20221201_20221203_crwal_news_context_raw.pkl\n",
      "kmeans_4_윤석열_20221201_20221231_crwal_news_context_raw.pkl\n",
      "kmeans_4_삼성전자_20221201_20221203_crwal_news_context_raw.pkl\n",
      "kmeans_4_삼성전자_20221201_20221231_crwal_news_context_raw.pkl\n",
      "kmeans_4_윤석열_20221201_20221215_crwal_news_context_raw.pkl\n",
      "kmeans_4_삼성전자_20221201_20221215_crwal_news_context_raw.pkl\n"
     ]
    }
   ],
   "source": [
    "for dirs in onlydir:\n",
    "    mypath = dirs + '/raw/'\n",
    "    onlyfiles = [f for f in listdir(mypath) if isfile(join(mypath, f))]\n",
    "    onlyfiles = [f for f in onlyfiles if f.split('.')[1] == 'pkl']\n",
    "    for filename in onlyfiles:\n",
    "        print(filename)\n",
    "        if not os.path.exists(f'./raws/{dirs}'):\n",
    "            os.makedirs(f'./raws/{dirs}')\n",
    "        shutil.copy(f'./{dirs}/raw/{filename}', f'./raws/{dirs}/{filename}')\n",
    "    '''    temp = f'./{dirs}/raw/{f}'\n",
    "        print(temp)\n",
    "        src = f'./{dirs}/raw/'\n",
    "        dir = f'./raws/{dirs}'\n",
    "        if not os.path.exists(f'./raws/{dirs}'):\n",
    "            os.makedirs(f'./raws/{dirs}')\n",
    "        shutil.copy(src + filename, dir + filename)\n",
    "        #eval(!mv f'./{dirs}/raw/{f}' './raws')'''"
   ]
  },
  {
   "cell_type": "code",
   "execution_count": 2,
   "id": "f7b51c51-5bdf-497f-9e79-15de557b03b9",
   "metadata": {},
   "outputs": [],
   "source": [
    "from newspaper import Article\n",
    "from tqdm import tqdm\n",
    "\n",
    "def context(x):\n",
    "    try:\n",
    "        article = Article(x, language='ko')\n",
    "        article.download()\n",
    "        article.parse()\n",
    "        return article.text\n",
    "    except:\n",
    "        return None\n",
    "    \n",
    "def add_context_to_df(df):\n",
    "    contexts = []\n",
    "    for i, link in enumerate(tqdm(df['url'])):\n",
    "        cont = context(link)\n",
    "        \n",
    "        if(cont):\n",
    "            contexts.append(cont)\n",
    "        else:\n",
    "            contexts.append('delete this')\n",
    "    df['raw'] = contexts\n",
    "    df = df.drop(df[df['raw'] == 'delete this'].index)\n",
    "    return df"
   ]
  },
  {
   "cell_type": "code",
   "execution_count": null,
   "id": "d161116e-251e-4d35-86e5-75a5e64d6c24",
   "metadata": {},
   "outputs": [],
   "source": [
    "import pandas as pd\n",
    "\n",
    "for dirs in onlydir:\n",
    "    mypath = dirs\n",
    "    for file in onlyfiles:\n",
    "        if(file.split('.')[1] == 'pkl' and 'raw' not in file.split('.')[0]):\n",
    "            name = file.split('.')[0]\n",
    "            df = pd.read_pickle(f'./{mypath}/{name}.pkl')\n",
    "            print(name, len(df))\n",
    "            if not os.path.exists(f'./{mypath}/raw'):\n",
    "                os.makedirs(f'./{mypath}/raw')\n",
    "            df = add_context_to_df(df)\n",
    "            df.to_pickle(f'./{mypath}/raw/{name}_raw.pkl')\n",
    "            df.to_csv(f'./{mypath}/raw_csv/{name}.csv')"
   ]
  },
  {
   "cell_type": "code",
   "execution_count": 41,
   "id": "284dddb1-31e6-43e2-9658-e7a6160bc021",
   "metadata": {},
   "outputs": [],
   "source": [
    "df.to_csv(f'./bertopic(mpnet)/{name}.csv')"
   ]
  },
  {
   "cell_type": "code",
   "execution_count": 42,
   "id": "17372ab6-4b74-4ce5-b442-1a2be6d5d064",
   "metadata": {},
   "outputs": [
    {
     "data": {
      "text/plain": [
       "88"
      ]
     },
     "execution_count": 42,
     "metadata": {},
     "output_type": "execute_result"
    }
   ],
   "source": []
  }
 ],
 "metadata": {
  "kernelspec": {
   "display_name": "Python 3 (ipykernel)",
   "language": "python",
   "name": "python3"
  },
  "language_info": {
   "codemirror_mode": {
    "name": "ipython",
    "version": 3
   },
   "file_extension": ".py",
   "mimetype": "text/x-python",
   "name": "python",
   "nbconvert_exporter": "python",
   "pygments_lexer": "ipython3",
   "version": "3.8.5"
  }
 },
 "nbformat": 4,
 "nbformat_minor": 5
}
