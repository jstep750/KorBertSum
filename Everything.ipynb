{
 "cells": [
  {
   "cell_type": "code",
   "execution_count": 2,
   "id": "62fe3e6d-c2ad-488f-8189-54ccf427e813",
   "metadata": {},
   "outputs": [],
   "source": [
    "import os\n",
    "# Bertsum directory chdir\n",
    "os.chdir('./src')"
   ]
  },
  {
   "cell_type": "code",
   "execution_count": 3,
   "id": "23bdeb51-9e51-4f96-bf75-8aafbca39953",
   "metadata": {},
   "outputs": [
    {
     "name": "stdout",
     "output_type": "stream",
     "text": [
      "\u001b[0m\u001b[01;34m__pycache__\u001b[0m/    \u001b[01;34mmodels\u001b[0m/  \u001b[01;34mprepro\u001b[0m/        req.txt           \u001b[01;34mtmp\u001b[0m/\n",
      "distributed.py  \u001b[01;34mothers\u001b[0m/  preprocess.py  requirements.txt  train.py\n"
     ]
    }
   ],
   "source": [
    "%ls"
   ]
  },
  {
   "cell_type": "markdown",
   "id": "36681447-acbb-41bc-b59a-622ec4016310",
   "metadata": {
    "tags": []
   },
   "source": [
    "## 추출요약 코드"
   ]
  },
  {
   "cell_type": "code",
   "execution_count": 58,
   "id": "09dbd66f-a905-48b6-8023-32c59534186c",
   "metadata": {},
   "outputs": [],
   "source": [
    "\"\"\"\n",
    "    Main training workflow\n",
    "\"\"\"\n",
    "from __future__ import division\n",
    "\n",
    "import argparse\n",
    "import glob\n",
    "import os\n",
    "import random\n",
    "import signal\n",
    "import time\n",
    "import numpy as np\n",
    "\n",
    "import torch\n",
    "from pytorch_pretrained_bert import BertConfig\n",
    "\n",
    "\n",
    "import distributed\n",
    "from models import data_loader, model_builder\n",
    "from models.data_loader import load_dataset\n",
    "from models.model_builder import Summarizer\n",
    "from tensorboardX import SummaryWriter\n",
    "from models.reporter import ReportMgr\n",
    "from models.stats import Statistics\n",
    "from others.logging import logger\n",
    "# from models.trainer import build_trainer\n",
    "# build_trainer의 dependency package pyrouge.utils가 import되지 않아 직접 셀에 삽입\n",
    "from others.logging import logger, init_logger\n",
    "import easydict\n",
    "\n",
    "args = easydict.EasyDict({\n",
    "    \"encoder\":'classifier',\n",
    "    \"mode\":'summary',\n",
    "    \"bert_data_path\":'../bert_sample/korean',\n",
    "    \"model_path\":'../models/bert_classifier',\n",
    "    \"bert_model\":'../001_bert_morp_pytorch',\n",
    "    \"result_path\":'../results/korean',\n",
    "    \"temp_dir\":'.',\n",
    "    \"bert_config_path\":'../001_bert_morp_pytorch/bert_config.json',\n",
    "    \"batch_size\":1000,\n",
    "    \"use_interval\":True,\n",
    "    \"hidden_size\":128,\n",
    "    \"ff_size\":512,\n",
    "    \"heads\":4,\n",
    "    \"inter_layers\":2,\n",
    "    \"rnn_size\":512,\n",
    "    \"param_init\":0,\n",
    "    \"param_init_glorot\":True,\n",
    "    \"dropout\":0.1,\n",
    "    \"optim\":'adam',\n",
    "    \"lr\":2e-3,\n",
    "    \"report_every\":1,\n",
    "    \"save_checkpoint_steps\":5,\n",
    "    \"block_trigram\":True,\n",
    "    \"recall_eval\":False,\n",
    "    \n",
    "    \"accum_count\":1,\n",
    "    \"world_size\":1,\n",
    "    \"visible_gpus\":'-1',\n",
    "    \"gpu_ranks\":'0',\n",
    "    \"log_file\":'../logs/bert_classifier',\n",
    "    \"test_from\":'../models/bert_classifier2/model_step_35000.pt'\n",
    "})\n",
    "\n",
    "\n",
    "def build_trainer(args, device_id, model,\n",
    "                  optim):\n",
    "    \"\"\"\n",
    "    Simplify `Trainer` creation based on user `opt`s*\n",
    "    Args:\n",
    "        opt (:obj:`Namespace`): user options (usually from argument parsing)\n",
    "        model (:obj:`onmt.models.NMTModel`): the model to train\n",
    "        fields (dict): dict of fields\n",
    "        optim (:obj:`onmt.utils.Optimizer`): optimizer used during training\n",
    "        data_type (str): string describing the type of data\n",
    "            e.g. \"text\", \"img\", \"audio\"\n",
    "        model_saver(:obj:`onmt.models.ModelSaverBase`): the utility object\n",
    "            used to save the model\n",
    "    \"\"\"\n",
    "    device = \"cpu\" if args.visible_gpus == '-1' else \"cuda\"\n",
    "\n",
    "\n",
    "    grad_accum_count = args.accum_count\n",
    "    n_gpu = args.world_size\n",
    "\n",
    "    if device_id >= 0:\n",
    "        gpu_rank = int(args.gpu_ranks[device_id])\n",
    "    else:\n",
    "        gpu_rank = 0\n",
    "        n_gpu = 0\n",
    "\n",
    "    #print('gpu_rank %d' % gpu_rank)\n",
    "\n",
    "    tensorboard_log_dir = args.model_path\n",
    "\n",
    "    writer = SummaryWriter(tensorboard_log_dir, comment=\"Unmt\")\n",
    "\n",
    "    report_manager = ReportMgr(args.report_every, start_time=-1, tensorboard_writer=writer)\n",
    "\n",
    "    trainer = Trainer(args, model, optim, grad_accum_count, n_gpu, gpu_rank, report_manager)\n",
    "\n",
    "    # print(tr)\n",
    "    if (model):\n",
    "        n_params = _tally_parameters(model)\n",
    "        #logger.info('* number of parameters: %d' % n_params)\n",
    "\n",
    "    return trainer\n",
    "\n",
    "class Trainer(object):\n",
    "    \"\"\"\n",
    "    Class that controls the training process.\n",
    "\n",
    "    Args:\n",
    "            model(:py:class:`onmt.models.model.NMTModel`): translation model\n",
    "                to train\n",
    "            train_loss(:obj:`onmt.utils.loss.LossComputeBase`):\n",
    "               training loss computation\n",
    "            valid_loss(:obj:`onmt.utils.loss.LossComputeBase`):\n",
    "               training loss computation\n",
    "            optim(:obj:`onmt.utils.optimizers.Optimizer`):\n",
    "               the optimizer responsible for update\n",
    "            trunc_size(int): length of truncated back propagation through time\n",
    "            shard_size(int): compute loss in shards of this size for efficiency\n",
    "            data_type(string): type of the source input: [text|img|audio]\n",
    "            norm_method(string): normalization methods: [sents|tokens]\n",
    "            grad_accum_count(int): accumulate gradients this many times.\n",
    "            report_manager(:obj:`onmt.utils.ReportMgrBase`):\n",
    "                the object that creates reports, or None\n",
    "            model_saver(:obj:`onmt.models.ModelSaverBase`): the saver is\n",
    "                used to save a checkpoint.\n",
    "                Thus nothing will be saved if this parameter is None\n",
    "    \"\"\"\n",
    "\n",
    "    def __init__(self,  args, model,  optim,\n",
    "                  grad_accum_count=1, n_gpu=1, gpu_rank=1,\n",
    "                  report_manager=None):\n",
    "        # Basic attributes.\n",
    "        self.args = args\n",
    "        self.save_checkpoint_steps = args.save_checkpoint_steps\n",
    "        self.model = model\n",
    "        self.optim = optim\n",
    "        self.grad_accum_count = grad_accum_count\n",
    "        self.n_gpu = n_gpu\n",
    "        self.gpu_rank = gpu_rank\n",
    "        self.report_manager = report_manager\n",
    "\n",
    "        self.loss = torch.nn.BCELoss(reduction='none')\n",
    "        assert grad_accum_count > 0\n",
    "        # Set model in training mode.\n",
    "        if (model):\n",
    "            self.model.train()\n",
    "\n",
    "    def summary(self, test_iter, step, cal_lead=False, cal_oracle=False):\n",
    "        \"\"\" Validate model.\n",
    "            valid_iter: validate data iterator\n",
    "        Returns:\n",
    "            :obj:`nmt.Statistics`: validation loss statistics\n",
    "        \"\"\"\n",
    "        # Set model in validating mode.\n",
    "        def _get_ngrams(n, text):\n",
    "            ngram_set = set()\n",
    "            text_length = len(text)\n",
    "            max_index_ngram_start = text_length - n\n",
    "            for i in range(max_index_ngram_start + 1):\n",
    "                ngram_set.add(tuple(text[i:i + n]))\n",
    "            return ngram_set\n",
    "\n",
    "        def _block_tri(c, p):\n",
    "            tri_c = _get_ngrams(3, c.split())\n",
    "            for s in p:\n",
    "                tri_s = _get_ngrams(3, s.split())\n",
    "                if len(tri_c.intersection(tri_s))>0:\n",
    "                    return True\n",
    "            return False\n",
    "\n",
    "        if (not cal_lead and not cal_oracle):\n",
    "            self.model.eval()\n",
    "        stats = Statistics()\n",
    "\n",
    "        \n",
    "        with torch.no_grad():\n",
    "            for batch in test_iter:\n",
    "                src = batch.src\n",
    "                labels = batch.labels\n",
    "                segs = batch.segs\n",
    "                clss = batch.clss\n",
    "                mask = batch.mask\n",
    "                mask_cls = batch.mask_cls\n",
    "\n",
    "\n",
    "                gold = []\n",
    "                pred = []\n",
    "\n",
    "                if (cal_lead):\n",
    "                    selected_ids = [list(range(batch.clss.size(1)))] * batch.batch_size\n",
    "                elif (cal_oracle):\n",
    "                    selected_ids = [[j for j in range(batch.clss.size(1)) if labels[i][j] == 1] for i in\n",
    "                                    range(batch.batch_size)]\n",
    "                else:\n",
    "                    sent_scores, mask = self.model(src, segs, clss, mask, mask_cls)\n",
    "\n",
    "                    # loss = self.loss(sent_scores, labels.float())\n",
    "                    # loss = (loss * mask.float()).sum()\n",
    "                    # batch_stats = Statistics(float(loss.cpu().data.numpy()), len(labels))\n",
    "                    # stats.update(batch_stats)\n",
    "\n",
    "                    sent_scores = sent_scores + mask.float()\n",
    "                    sent_scores = sent_scores.cpu().data.numpy()\n",
    "                    selected_ids = np.argsort(-sent_scores, 1)\n",
    "                # selected_ids = np.sort(selected_ids,1)\n",
    "                \n",
    "\n",
    "        return selected_ids\n",
    "\n",
    "\n",
    "    def _gradient_accumulation(self, true_batchs, normalization, total_stats,\n",
    "                               report_stats):\n",
    "        if self.grad_accum_count > 1:\n",
    "            self.model.zero_grad()\n",
    "\n",
    "        for batch in true_batchs:\n",
    "            if self.grad_accum_count == 1:\n",
    "                self.model.zero_grad()\n",
    "\n",
    "            src = batch.src\n",
    "            labels = batch.labels\n",
    "            segs = batch.segs\n",
    "            clss = batch.clss\n",
    "            mask = batch.mask\n",
    "            mask_cls = batch.mask_cls\n",
    "\n",
    "            sent_scores, mask = self.model(src, segs, clss, mask, mask_cls)\n",
    "\n",
    "            loss = self.loss(sent_scores, labels.float())\n",
    "            loss = (loss*mask.float()).sum()\n",
    "            (loss/loss.numel()).backward()\n",
    "            # loss.div(float(normalization)).backward()\n",
    "\n",
    "            batch_stats = Statistics(float(loss.cpu().data.numpy()), normalization)\n",
    "\n",
    "\n",
    "            total_stats.update(batch_stats)\n",
    "            report_stats.update(batch_stats)\n",
    "\n",
    "            # 4. Update the parameters and statistics.\n",
    "            if self.grad_accum_count == 1:\n",
    "                # Multi GPU gradient gather\n",
    "                if self.n_gpu > 1:\n",
    "                    grads = [p.grad.data for p in self.model.parameters()\n",
    "                             if p.requires_grad\n",
    "                             and p.grad is not None]\n",
    "                    distributed.all_reduce_and_rescale_tensors(\n",
    "                        grads, float(1))\n",
    "                self.optim.step()\n",
    "\n",
    "        # in case of multi step gradient accumulation,\n",
    "        # update only after accum batches\n",
    "        if self.grad_accum_count > 1:\n",
    "            if self.n_gpu > 1:\n",
    "                grads = [p.grad.data for p in self.model.parameters()\n",
    "                         if p.requires_grad\n",
    "                         and p.grad is not None]\n",
    "                distributed.all_reduce_and_rescale_tensors(\n",
    "                    grads, float(1))\n",
    "            self.optim.step()\n",
    "\n",
    "    def _save(self, step):\n",
    "        real_model = self.model\n",
    "        # real_generator = (self.generator.module\n",
    "        #                   if isinstance(self.generator, torch.nn.DataParallel)\n",
    "        #                   else self.generator)\n",
    "\n",
    "        model_state_dict = real_model.state_dict()\n",
    "        # generator_state_dict = real_generator.state_dict()\n",
    "        checkpoint = {\n",
    "            'model': model_state_dict,\n",
    "            # 'generator': generator_state_dict,\n",
    "            'opt': self.args,\n",
    "            'optim': self.optim,\n",
    "        }\n",
    "        checkpoint_path = os.path.join(self.args.model_path, 'model_step_%d.pt' % step)\n",
    "        #logger.info(\"Saving checkpoint %s\" % checkpoint_path)\n",
    "        # checkpoint_path = '%s_step_%d.pt' % (FLAGS.model_path, step)\n",
    "        if (not os.path.exists(checkpoint_path)):\n",
    "            torch.save(checkpoint, checkpoint_path)\n",
    "            return checkpoint, checkpoint_path\n",
    "\n",
    "    def _start_report_manager(self, start_time=None):\n",
    "        \"\"\"\n",
    "        Simple function to start report manager (if any)\n",
    "        \"\"\"\n",
    "        if self.report_manager is not None:\n",
    "            if start_time is None:\n",
    "                self.report_manager.start()\n",
    "            else:\n",
    "                self.report_manager.start_time = start_time\n",
    "\n",
    "    def _maybe_gather_stats(self, stat):\n",
    "        \"\"\"\n",
    "        Gather statistics in multi-processes cases\n",
    "\n",
    "        Args:\n",
    "            stat(:obj:onmt.utils.Statistics): a Statistics object to gather\n",
    "                or None (it returns None in this case)\n",
    "\n",
    "        Returns:\n",
    "            stat: the updated (or unchanged) stat object\n",
    "        \"\"\"\n",
    "        if stat is not None and self.n_gpu > 1:\n",
    "            return Statistics.all_gather_stats(stat)\n",
    "        return stat\n",
    "\n",
    "    def _maybe_report_training(self, step, num_steps, learning_rate,\n",
    "                               report_stats):\n",
    "        \"\"\"\n",
    "        Simple function to report training stats (if report_manager is set)\n",
    "        see `onmt.utils.ReportManagerBase.report_training` for doc\n",
    "        \"\"\"\n",
    "        if self.report_manager is not None:\n",
    "            return self.report_manager.report_training(\n",
    "                step, num_steps, learning_rate, report_stats,\n",
    "                multigpu=self.n_gpu > 1)\n",
    "\n",
    "    def _report_step(self, learning_rate, step, train_stats=None,\n",
    "                     valid_stats=None):\n",
    "        \"\"\"\n",
    "        Simple function to report stats (if report_manager is set)\n",
    "        see `onmt.utils.ReportManagerBase.report_step` for doc\n",
    "        \"\"\"\n",
    "        if self.report_manager is not None:\n",
    "            return self.report_manager.report_step(\n",
    "                learning_rate, step, train_stats=train_stats,\n",
    "                valid_stats=valid_stats)\n",
    "\n",
    "    def _maybe_save(self, step):\n",
    "        \"\"\"\n",
    "        Save the model if a model saver is set\n",
    "        \"\"\"\n",
    "        if self.model_saver is not None:\n",
    "            self.model_saver.maybe_save(step)\n",
    "\n",
    "            \n",
    "def summary(args, b_list, device_id, pt, step, model):\n",
    "\n",
    "    device = \"cpu\" if args.visible_gpus == '-1' else \"cuda\"\n",
    "    if (pt != ''):\n",
    "        test_from = pt\n",
    "    else:\n",
    "        test_from = args.test_from\n",
    "    \n",
    "    opt = vars(checkpoint['opt'])\n",
    "    for k in opt.keys():\n",
    "        if (k in model_flags):\n",
    "            setattr(args, k, opt[k])\n",
    "    #print(args)\n",
    "\n",
    "    model.load_cp(checkpoint)\n",
    "    model.eval()\n",
    "\n",
    "    test_iter =data_loader.Dataloader(args, _lazy_dataset_loader(b_list),\n",
    "                                  args.batch_size, device,\n",
    "                                  shuffle=False, is_test=True)\n",
    "    trainer = build_trainer(args, device_id, model, None)\n",
    "    result = trainer.summary(test_iter,step)\n",
    "    return result\n",
    "\n",
    "def _tally_parameters(model):\n",
    "    n_params = sum([p.nelement() for p in model.parameters()])\n",
    "    return n_params\n",
    "\n",
    "args.gpu_ranks = [int(i) for i in args.gpu_ranks.split(',')]\n",
    "os.environ[\"CUDA_VISIBLE_DEVICES\"] = args.visible_gpus\n",
    "\n",
    "init_logger(args.log_file)\n",
    "device = \"cpu\" if args.visible_gpus == '-1' else \"cuda\"\n",
    "device_id = 0 if device == \"cuda\" else -1\n",
    "model_flags = ['hidden_size', 'ff_size', 'heads', 'inter_layers','encoder','ff_actv', 'use_interval','rnn_size']"
   ]
  },
  {
   "cell_type": "code",
   "execution_count": 59,
   "id": "3622ff59-a47f-4b5c-b236-57e73c5ca3c7",
   "metadata": {},
   "outputs": [],
   "source": [
    "import argparse\n",
    "import json\n",
    "import os\n",
    "import time\n",
    "import urllib3\n",
    "from glob import glob\n",
    "import collections\n",
    "import six\n",
    "import gc\n",
    "import gluonnlp as nlp\n",
    "from kobert.utils import get_tokenizer\n",
    "from kobert.utils import download as _download\n",
    "\n",
    "def do_lang ( openapi_key, text ) :\n",
    "    openApiURL = \"http://aiopen.etri.re.kr:8000/WiseNLU\"\n",
    "    requestJson = {  \n",
    "        \"argument\": {\n",
    "            \"text\": text,\n",
    "            \"analysis_code\": \"morp\"\n",
    "        }\n",
    "    }\n",
    "    http = urllib3.PoolManager()\n",
    "    response = http.request(\n",
    "        \"POST\",\n",
    "        openApiURL,\n",
    "        headers={\"Content-Type\": \"application/json; charset=UTF-8\", \"Authorization\" :  openapi_key},\n",
    "        body=json.dumps(requestJson)\n",
    "    )\n",
    "\n",
    "    json_data = json.loads(response.data.decode('utf-8'))\n",
    "    json_result = json_data[\"result\"]\n",
    "    \n",
    "    if json_result == -1:\n",
    "        json_reason = json_data[\"reason\"]\n",
    "        if \"Invalid Access Key\" in json_reason:\n",
    "            logger.info(json_reason)\n",
    "            logger.info(\"Please check the openapi access key.\")\n",
    "            sys.exit()\n",
    "        return \"openapi error - \" + json_reason\n",
    "    else:\n",
    "        json_data = json.loads(response.data.decode('utf-8'))\n",
    "    \n",
    "        json_return_obj = json_data[\"return_object\"]\n",
    "        \n",
    "        return_result = \"\"\n",
    "        json_sentence = json_return_obj[\"sentence\"]\n",
    "        for json_morp in json_sentence:\n",
    "            for morp in json_morp[\"morp\"]:\n",
    "                return_result = return_result+str(morp[\"lemma\"])+\"/\"+str(morp[\"type\"])+\" \"\n",
    "\n",
    "        return return_result\n",
    "\n",
    "def get_kobert_vocab(cachedir=\"./tmp/\"):\n",
    "    # Add BOS,EOS vocab\n",
    "    tokenizer = {\n",
    "        \"url\": \"s3://skt-lsl-nlp-model/KoBERT/tokenizers/kobert_news_wiki_ko_cased-1087f8699e.spiece\",\n",
    "        #\"fname\": \"/opt/ml/SumAI/bertsum/.cache/kobert_news_wiki_ko_cased-1087f8699e.spiece\",\n",
    "        \"chksum\": \"ae5711deb3\",\n",
    "    }\n",
    "    \n",
    "    vocab_info = tokenizer\n",
    "    vocab_file = _download(\n",
    "        #vocab_info[\"url\"], vocab_info[\"fname\"], vocab_info[\"chksum\"], cachedir=cachedir\n",
    "        vocab_info[\"url\"], vocab_info[\"chksum\"], cachedir=cachedir\n",
    "    )\n",
    "\n",
    "    vocab_b_obj = nlp.vocab.BERTVocab.from_sentencepiece(\n",
    "        vocab_file[0], padding_token=\"[PAD]\", bos_token=\"[BOS]\", eos_token=\"[EOS]\"\n",
    "    )\n",
    "    return vocab_b_obj\n",
    "\n",
    "    \n",
    "class BertData():\n",
    "    def __init__(self, vocab):\n",
    "        self.tokenizer = nlp.data.BERTSPTokenizer(get_tokenizer(), vocab, lower=False)\n",
    "        #self.tokenizer = Tokenizer(vocab_file_path)\n",
    "        self.sep_vid = self.tokenizer.vocab['[SEP]']\n",
    "        self.cls_vid = self.tokenizer.vocab['[CLS]']\n",
    "        self.pad_vid = self.tokenizer.vocab['[PAD]']\n",
    "\n",
    "    def preprocess(self, src):\n",
    "\n",
    "        if (len(src) == 0):\n",
    "            return None\n",
    "\n",
    "        original_src_txt = [''.join(s) for s in src]\n",
    "\n",
    "\n",
    "        idxs = [i for i, s in enumerate(src) if (len(s) > 0)]\n",
    "\n",
    "        src = [src[i][:20000] for i in idxs]\n",
    "        src = src[:10000]\n",
    "\n",
    "        if (len(src) < 3):\n",
    "            return None\n",
    "\n",
    "        src_txt = [''.join(sent) for sent in src]\n",
    "        text = ' [SEP] [CLS] '.join(src_txt)\n",
    "        src_subtokens = text.split(' ')\n",
    "        src_subtokens = src_subtokens[:510]\n",
    "        src_subtokens = ['[CLS]'] + src_subtokens + ['[SEP]']\n",
    "\n",
    "        src_subtoken_idxs = self.tokenizer.convert_tokens_to_ids(src_subtokens)\n",
    "        _segs = [-1] + [i for i, t in enumerate(src_subtoken_idxs) if t == self.sep_vid]\n",
    "        segs = [_segs[i] - _segs[i - 1] for i in range(1, len(_segs))]\n",
    "        segments_ids = []\n",
    "        for i, s in enumerate(segs):\n",
    "            if (i % 2 == 0):\n",
    "                segments_ids += s * [0]\n",
    "            else:\n",
    "                segments_ids += s * [1]\n",
    "        cls_ids = [i for i, t in enumerate(src_subtoken_idxs) if t == self.cls_vid]\n",
    "        labels = None\n",
    "        tgt_txt = None\n",
    "        src_txt = [original_src_txt[i] for i in idxs]\n",
    "        return src_subtoken_idxs, labels, segments_ids, cls_ids, src_txt, tgt_txt\n",
    "    \n",
    "def convert_to_unicode(text):\n",
    "    \"\"\"Converts `text` to Unicode (if it's not already), assuming utf-8 input.\"\"\"\n",
    "    if six.PY3:\n",
    "        if isinstance(text, str):\n",
    "            return text\n",
    "        elif isinstance(text, bytes):\n",
    "            return text.decode(\"utf-8\", \"ignore\")\n",
    "        else:\n",
    "            raise ValueError(\"Unsupported string type: %s\" % (type(text)))\n",
    "    elif six.PY2:\n",
    "        if isinstance(text, str):\n",
    "            return text.decode(\"utf-8\", \"ignore\")\n",
    "        elif isinstance(text, unicode):\n",
    "            return text\n",
    "        else:\n",
    "            raise ValueError(\"Unsupported string type: %s\" % (type(text)))\n",
    "    else:\n",
    "        raise ValueError(\"Not running on Python2 or Python 3?\")\n",
    "        \n",
    "class Tokenizer(object):\n",
    "    \n",
    "    def __init__(self, vocab_file_path):\n",
    "        self.vocab_file_path = vocab_file_path\n",
    "        \"\"\"Loads a vocabulary file into a dictionary.\"\"\"\n",
    "        vocab = collections.OrderedDict()\n",
    "        index = 0\n",
    "        with open(self.vocab_file_path, \"r\", encoding='utf-8') as reader:\n",
    "\n",
    "            while True:\n",
    "                token = convert_to_unicode(reader.readline())\n",
    "                if not token:\n",
    "                    break\n",
    "\n",
    "          ### joonho.lim @ 2019-03-15\n",
    "                if token.find('n_iters=') == 0 or token.find('max_length=') == 0 :\n",
    "\n",
    "                    continue\n",
    "                token = token.split('\\t')[0].strip('_')\n",
    "\n",
    "                token = token.strip()\n",
    "                vocab[token] = index\n",
    "                index += 1\n",
    "        self.vocab = vocab\n",
    "        \n",
    "    def convert_tokens_to_ids(self, tokens):\n",
    "        \"\"\"Converts a sequence of tokens into ids using the vocab.\"\"\"\n",
    "        ids = []\n",
    "        for token in tokens:\n",
    "            try:\n",
    "                ids.append(self.vocab[token])\n",
    "            except:\n",
    "                ids.append(1)\n",
    "        if len(ids) > 10000:\n",
    "            raise ValueError(\n",
    "                \"Token indices sequence length is longer than the specified maximum \"\n",
    "                \" sequence length for this BERT model ({} > {}). Running this\"\n",
    "                \" sequence through BERT will result in indexing errors\".format(len(ids), 10000)\n",
    "            )\n",
    "        return ids\n",
    "\n",
    "\n",
    "def _lazy_dataset_loader(pt_file):\n",
    "    dataset = pt_file    \n",
    "    yield dataset\n",
    "    \n",
    "def News_to_input(text, openapi_key):\n",
    "    newstemp = do_lang(openapi_key, text)\n",
    "    news = newstemp.split(' ./SF ')[:-1]\n",
    "    vocab = get_kobert_vocab()\n",
    "    tokenizer = nlp.data.BERTSPTokenizer(get_tokenizer(), vocab, lower=False)\n",
    "    bertdata = BertData(vocab)\n",
    "    sent_labels = [0] * len(news)\n",
    "    tmp = bertdata.preprocess(news)\n",
    "    #print(tmp)\n",
    "    b_data_dict = {\"src\":tmp[0],\n",
    "               \"tgt\": [0],\n",
    "               \"labels\":[0,0,0],\n",
    "               \"src_sent_labels\":sent_labels,\n",
    "               \"segs\":tmp[2],\n",
    "               \"clss\":tmp[3],\n",
    "               \"src_txt\":tmp[4],\n",
    "               \"tgt_txt\":'hehe'}\n",
    "    b_list = []\n",
    "    b_list.append(b_data_dict) \n",
    "    return b_list"
   ]
  },
  {
   "cell_type": "markdown",
   "id": "71a3381c-d48f-4c1a-ab2f-5783a2a3344b",
   "metadata": {
    "tags": []
   },
   "source": [
    "## 추출요약 테스트"
   ]
  },
  {
   "cell_type": "code",
   "execution_count": 60,
   "id": "739aa86a-055a-4b7f-85b6-dfbf660c2e31",
   "metadata": {},
   "outputs": [
    {
     "name": "stdout",
     "output_type": "stream",
     "text": [
      "using cached model. /opt/ml/KorBertSum/src/./tmp/kobert_news_wiki_ko_cased-1087f8699e.spiece\n",
      "using cached model. /opt/ml/KorBertSum/src/.cache/kobert_news_wiki_ko_cased-1087f8699e.spiece\n",
      "using cached model. /opt/ml/KorBertSum/src/.cache/kobert_news_wiki_ko_cased-1087f8699e.spiece\n",
      "------------------------------------------------------------\n"
     ]
    },
    {
     "name": "stderr",
     "output_type": "stream",
     "text": [
      "[2023-01-17 15:50:36,675 INFO] loading archive file ../001_bert_morp_pytorch\n",
      "[2023-01-17 15:50:36,676 INFO] Model config {\n",
      "  \"attention_probs_dropout_prob\": 0.1,\n",
      "  \"directionality\": \"bidi\",\n",
      "  \"hidden_act\": \"gelu\",\n",
      "  \"hidden_dropout_prob\": 0.1,\n",
      "  \"hidden_size\": 768,\n",
      "  \"initializer_range\": 0.02,\n",
      "  \"intermediate_size\": 3072,\n",
      "  \"max_position_embeddings\": 512,\n",
      "  \"num_attention_heads\": 12,\n",
      "  \"num_hidden_layers\": 12,\n",
      "  \"pooler_fc_size\": 768,\n",
      "  \"pooler_num_attention_heads\": 12,\n",
      "  \"pooler_num_fc_layers\": 3,\n",
      "  \"pooler_size_per_head\": 128,\n",
      "  \"pooler_type\": \"first_token_transform\",\n",
      "  \"type_vocab_size\": 2,\n",
      "  \"vocab_size\": 30349\n",
      "}\n",
      "\n"
     ]
    },
    {
     "name": "stdout",
     "output_type": "stream",
     "text": [
      "[[0 7 3 1 4 5 2 6]]\n",
      "------------------------------------------------------------\n",
      "[0, 7, 3]\n",
      "------------------------------------------------------------\n",
      "0 \n",
      "일본 정부가 문재인 대통령이 도쿄올림픽을 계기로 일본을 방문하는 방향으로 한일 양국이 조율하고 있다는 15일 요미우리신문의 보도를 부인했다\n",
      "3 \n",
      "한국 측은 문 대통령의 방일 때 스가 요시히데(菅義偉) 총리와 처음으로 정상회담을 하겠다는 생각이라고 요미우리는 전했다\n",
      "7 \n",
      "그러면서 “다케시마 문제에 대해서는 계속 우리나라의 영토, 영해, 영공을 단호히 지키겠다는 결의로 냉정하고 의연하게 대응해갈 생각”이라고 밝혔다\n",
      "------------------------------------------------------------\n",
      "\n",
      "일본 정부가 문재인 대통령이 도쿄올림픽을 계기로 일본을 방문하는 방향으로 한일 양국이 조율하고 있다는 15일 요미우리신문의 보도를 부인했다. \n",
      "한국 측은 문 대통령의 방일 때 스가 요시히데(菅義偉) 총리와 처음으로 정상회담을 하겠다는 생각이라고 요미우리는 전했다. \n",
      "그러면서 “다케시마 문제에 대해서는 계속 우리나라의 영토, 영해, 영공을 단호히 지키겠다는 결의로 냉정하고 의연하게 대응해갈 생각”이라고 밝혔다. \n",
      "------------------------------------------------------------\n"
     ]
    }
   ],
   "source": [
    "openapi_key = '9318dc23-24ac-4b59-a99e-a29ec170bf02'\n",
    "chat_history = \"뉴스 \"\n",
    "user_input = '''\n",
    "일본 정부가 문재인 대통령이 도쿄올림픽을 계기로 일본을 방문하는 방향으로 한일 양국이 조율하고 있다는 15일 요미우리신문의 보도를 부인했다.\n",
    "정부 대변인인 가토 가쓰노부(加藤勝信) 관방장관은 이날 오전 정례 기자회견에서 관련 질문에 “말씀하신 보도와 같은 사실이 없는 것으로 안다”고 밝혔다.\n",
    "앞서 요미우리는 한국 측이 도쿄올림픽을 계기로 한 문 대통령의 방일을 타진했고, 일본 측은 수용하는 방향이라고 이날 보도했다.\n",
    "한국 측은 문 대통령의 방일 때 스가 요시히데(菅義偉) 총리와 처음으로 정상회담을 하겠다는 생각이라고 요미우리는 전했다.\n",
    "가토 장관은 한일 정상회담에 대한 일본 정부의 자세에 대해 “그런 사실이 없기 때문에 가정의 질문에 대해 답하는 것을 삼가겠다”고 말했다.\n",
    "그는 한국 측의 독도방어훈련에 ‘어떤 대항 조치를 생각하고 있느냐’는 질문에는 “한국 해군의 훈련에 대해 정부로서는 강한 관심을 가지고 주시하는 상황이어서 지금 시점에선 논평을 삼가겠다”고 말을 아꼈다.\n",
    "가토 장관은 “다케시마(竹島·일본이 주장하는 독도의 명칭)는 역사적 사실에 비춰봐도, 국제법상으로도 명백한 일본 고유의 영토”라며 독도 영유권 주장을 되풀이했다.\n",
    "그러면서 “다케시마 문제에 대해서는 계속 우리나라의 영토, 영해, 영공을 단호히 지키겠다는 결의로 냉정하고 의연하게 대응해갈 생각”이라고 밝혔다.\n",
    "'''\n",
    "\n",
    "\n",
    "bot_input_ids = News_to_input(chat_history + user_input, openapi_key)\n",
    "print('------------------------------------------------------------')\n",
    "\n",
    "\n",
    "#logger.info('Loading checkpoint from %s' % test_from)\n",
    "checkpoint = torch.load('../models/bert_classifier/model_step_1000.pt', map_location=lambda storage, loc: storage)\n",
    "config = BertConfig.from_json_file(args.bert_config_path)\n",
    "model = Summarizer(args, device, load_pretrained_bert=False, bert_config = config)\n",
    "    \n",
    "chat_history_ids = summary(args, bot_input_ids, -1, '', None, model)\n",
    "print(chat_history_ids)\n",
    "print('------------------------------------------------------------')\n",
    "pred_lst = list(chat_history_ids[0][:3])\n",
    "print(pred_lst)\n",
    "print('------------------------------------------------------------')\n",
    "final_text = ''\n",
    "for i,a in enumerate(user_input.split('.')):\n",
    "    if i in pred_lst:\n",
    "        print(i, a)\n",
    "        final_text = final_text+a+'. '\n",
    "chat_history = user_input + '<token>' +final_text\n",
    "print('------------------------------------------------------------')\n",
    "print(final_text)\n",
    "print('------------------------------------------------------------')"
   ]
  },
  {
   "cell_type": "code",
   "execution_count": 80,
   "id": "beaba62c-2ff1-47eb-be8d-e3716479cbbd",
   "metadata": {},
   "outputs": [
    {
     "name": "stderr",
     "output_type": "stream",
     "text": [
      "[2023-01-17 15:59:07,136 INFO] loading archive file ../001_bert_morp_pytorch\n",
      "[2023-01-17 15:59:07,138 INFO] Model config {\n",
      "  \"attention_probs_dropout_prob\": 0.1,\n",
      "  \"directionality\": \"bidi\",\n",
      "  \"hidden_act\": \"gelu\",\n",
      "  \"hidden_dropout_prob\": 0.1,\n",
      "  \"hidden_size\": 768,\n",
      "  \"initializer_range\": 0.02,\n",
      "  \"intermediate_size\": 3072,\n",
      "  \"max_position_embeddings\": 512,\n",
      "  \"num_attention_heads\": 12,\n",
      "  \"num_hidden_layers\": 12,\n",
      "  \"pooler_fc_size\": 768,\n",
      "  \"pooler_num_attention_heads\": 12,\n",
      "  \"pooler_num_fc_layers\": 3,\n",
      "  \"pooler_size_per_head\": 128,\n",
      "  \"pooler_type\": \"first_token_transform\",\n",
      "  \"type_vocab_size\": 2,\n",
      "  \"vocab_size\": 30349\n",
      "}\n",
      "\n"
     ]
    },
    {
     "name": "stdout",
     "output_type": "stream",
     "text": [
      "using cached model. /opt/ml/KorBertSum/src/./tmp/kobert_news_wiki_ko_cased-1087f8699e.spiece\n",
      "using cached model. /opt/ml/KorBertSum/src/.cache/kobert_news_wiki_ko_cased-1087f8699e.spiece\n",
      "using cached model. /opt/ml/KorBertSum/src/.cache/kobert_news_wiki_ko_cased-1087f8699e.spiece\n",
      "[(2, '\\n앞서 요미우리는 한국 측이 도쿄올림픽을 계기로 한 문 대통령의 방일을 타진했고, 일본 측은 수용하는 방향이라고 이날 보도했다. '), (3, '\\n한국 측은 문 대통령의 방일 때 스가 요시히데(菅義偉) 총리와 처음으로 정상회담을 하겠다는 생각이라고 요미우리는 전했다. '), (4, '\\n가토 장관은 한일 정상회담에 대한 일본 정부의 자세에 대해 “그런 사실이 없기 때문에 가정의 질문에 대해 답하는 것을 삼가겠다”고 말했다. '), (6, '\\n가토 장관은 “다케시마(竹島·일본이 주장하는 독도의 명칭)는 역사적 사실에 비춰봐도, 국제법상으로도 명백한 일본 고유의 영토”라며 독도 영유권 주장을 되풀이했다. ')]\n"
     ]
    }
   ],
   "source": [
    "checkpoint = torch.load('../models/bert_classifier2/model_step_35000.pt', map_location=lambda storage, loc: storage)\n",
    "config = BertConfig.from_json_file(args.bert_config_path)\n",
    "model = Summarizer(args, device, load_pretrained_bert=False, bert_config = config)\n",
    "    \n",
    "def get_topk_sentences(k, user_input, model):\n",
    "    bot_input_ids = News_to_input(user_input, openapi_key)\n",
    "    \n",
    "    chat_history_ids = summary(args, bot_input_ids, -1, '', None, model)\n",
    "    pred_lst = list(chat_history_ids[0][:k])\n",
    "    final_text = []\n",
    "    for i,a in enumerate(user_input.split('.')):\n",
    "        if i in pred_lst:\n",
    "            #print(i, a)\n",
    "            final_text.append((i, a+'. '))\n",
    "    #print('------------------------------------------------------------')\n",
    "    return final_text\n",
    "    \n",
    "    \n",
    "print(get_topk_sentences(4, user_input, model))"
   ]
  },
  {
   "cell_type": "markdown",
   "id": "08b821da-f584-482b-a095-41ec523cf2e5",
   "metadata": {},
   "source": [
    "## Preprocess"
   ]
  },
  {
   "cell_type": "code",
   "execution_count": 81,
   "id": "229043b9-67e2-491b-bd3b-649d968bfca6",
   "metadata": {},
   "outputs": [],
   "source": [
    "# 공백 정리\n",
    "import re, unicodedata\n",
    "from string import whitespace, punctuation\n",
    "from pykospacing import Spacing\n",
    "from nltk import word_tokenize, sent_tokenize\n",
    "import pandas as pd\n",
    "\n",
    "def clean_byline(text):\n",
    "    # byline\n",
    "    pattern_email = re.compile(r'[-_0-9a-z]+@[-_0-9a-z]+(?:\\.[0-9a-z]+)+', flags=re.IGNORECASE)\n",
    "    pattern_url = re.compile(r'(?:https?:\\/\\/)?[-_0-9a-z]+(?:\\.[-_0-9a-z]+)+', flags=re.IGNORECASE)\n",
    "    pattern_others = re.compile(r'\\.([^\\.]*(?:기자|특파원|교수|작가|대표|논설|고문|주필|부문장|팀장|장관|원장|연구원|이사장|위원|실장|차장|부장|에세이|화백|사설|소장|단장|과장|기획자|큐레이터|저작권|평론가|©|©|ⓒ|\\@|\\/|=|▶|무단|전재|재배포|금지|\\[|\\]|\\(\\))[^\\.]*)$')\n",
    "    result = pattern_email.sub('', text)\n",
    "    result = pattern_url.sub('', result)\n",
    "\n",
    "    # 본문 시작 전 꺽쇠로 쌓인 바이라인 제거\n",
    "    pattern_bracket = re.compile(r'^((?:\\[.+\\])|(?:【.+】)|(?:<.+>)|(?:◆.+◆)\\s)')\n",
    "    result = pattern_bracket.sub('', result).strip()\n",
    "    return result\n",
    "\n",
    "\n",
    "def text_filter(text):\n",
    "    text = clean_byline(text)\n",
    "    exclude_pattern = re.compile(r'[^\\% 0-9a-zA-Zㄱ-ㅣ가-힣.,]+')\n",
    "    exclusions = exclude_pattern.findall(text)\n",
    "    result = exclude_pattern.sub(' ', text).strip()\n",
    "    spacing = Spacing()\n",
    "    kospacing_txt = spacing(result) \n",
    "    sentences = sent_tokenize(kospacing_txt)\n",
    "    return sentences\n",
    "\n",
    "def make_df(name, model):\n",
    "    start = time.time()\n",
    "    df = pd.read_csv(f'../{name}.csv')\n",
    "    text = []\n",
    "    top3 = []\n",
    "    for context in df['context']:\n",
    "        preprocess = text_filter(context)\n",
    "        text.append([(i,v) for i,v in enumerate(preprocess)])\n",
    "        top3.append(get_topk_sentences(len(preprocess)//4+1, ' '.join(preprocess), model))\n",
    "    df['text'] = text\n",
    "    df['topk'] = top3\n",
    "    print(f\"{time.time()-start:.4f} sec\")\n",
    "    return df\n"
   ]
  },
  {
   "cell_type": "code",
   "execution_count": 82,
   "id": "b9bc3b03-3f37-4182-a691-8307799d87d5",
   "metadata": {},
   "outputs": [
    {
     "name": "stdout",
     "output_type": "stream",
     "text": [
      "1/1 [==============================] - 0s 31ms/step\n",
      "1/1 [==============================] - 0s 31ms/step\n"
     ]
    },
    {
     "data": {
      "text/plain": [
       "['삼성전자가 갤럭시 버즈 2 프로 소프트웨어 업데이트를 통해 스마트폰 카메라 사용성을 한 단계 더 높였습니다.',\n",
       " '삼성전자는 휴대전화로 동영상을 찍을 때 360도 사운드 녹음이 가능하도록 갤럭시 버즈 2 프로와 갤럭시Z 플립4, 폴드 4의 소프트웨어 업데이트를 시행한다고 밝혔습니다.',\n",
       " '소프트웨어 업데이트를 통해 버즈 2 프로 좌우에 있는 마 이 크로 사용자가 듣는 그대로의 소리를 생생하게 녹음할 수 있다고 삼성전자 측은 설명했습니다.',\n",
       " '당신의 제보가 뉴스가 됩니다 카카오톡 YTN 검색해 채널 추가 전화 02 398 8585 메일']"
      ]
     },
     "execution_count": 82,
     "metadata": {},
     "output_type": "execute_result"
    }
   ],
   "source": [
    "text_filter(\"삼성전자가 갤럭시 버즈2 프로                소프트웨어 업데이트를 통해 스마트폰 카메라 사용성을 한 단계 더 높였습니다. 삼성전자는 휴대전화로 동영상을 찍을 때 360도 사운드 녹음이 가능하도록 갤럭시 버즈2 프로와 갤럭시Z 플립4, 폴드4의 소프트웨어 업데이트를 시행한다고 밝혔습니다. 소프트웨어 업데이트를 통해 버즈2 프로 좌우에 있는 마이크로 사용자가 듣는 그대로의 소리를 생생하게 녹음할 수 있다고 삼성전자 측은 설명했습니다. ※ '당신의 제보가 뉴스가 됩니다' [카카오톡] YTN 검색해 채널 추가 [전화] 02-398-8585 [메일]\")"
   ]
  },
  {
   "cell_type": "code",
   "execution_count": 83,
   "id": "61d68d92-fb83-4a0e-b5fe-4f6768224588",
   "metadata": {},
   "outputs": [
    {
     "name": "stdout",
     "output_type": "stream",
     "text": [
      "1/1 [==============================] - 0s 29ms/step\n",
      "1/1 [==============================] - 0s 30ms/step\n",
      "using cached model. /opt/ml/KorBertSum/src/./tmp/kobert_news_wiki_ko_cased-1087f8699e.spiece\n",
      "using cached model. /opt/ml/KorBertSum/src/.cache/kobert_news_wiki_ko_cased-1087f8699e.spiece\n",
      "using cached model. /opt/ml/KorBertSum/src/.cache/kobert_news_wiki_ko_cased-1087f8699e.spiece\n",
      "1/1 [==============================] - 0s 33ms/step\n",
      "1/1 [==============================] - 0s 30ms/step\n",
      "1/1 [==============================] - 0s 30ms/step\n",
      "1/1 [==============================] - 0s 29ms/step\n",
      "1/1 [==============================] - 0s 29ms/step\n",
      "1/1 [==============================] - 0s 30ms/step\n",
      "1/1 [==============================] - 0s 29ms/step\n",
      "using cached model. /opt/ml/KorBertSum/src/./tmp/kobert_news_wiki_ko_cased-1087f8699e.spiece\n",
      "using cached model. /opt/ml/KorBertSum/src/.cache/kobert_news_wiki_ko_cased-1087f8699e.spiece\n",
      "using cached model. /opt/ml/KorBertSum/src/.cache/kobert_news_wiki_ko_cased-1087f8699e.spiece\n",
      "1/1 [==============================] - 0s 31ms/step\n",
      "1/1 [==============================] - 0s 28ms/step\n",
      "1/1 [==============================] - 0s 118ms/step\n",
      "using cached model. /opt/ml/KorBertSum/src/./tmp/kobert_news_wiki_ko_cased-1087f8699e.spiece\n",
      "using cached model. /opt/ml/KorBertSum/src/.cache/kobert_news_wiki_ko_cased-1087f8699e.spiece\n",
      "using cached model. /opt/ml/KorBertSum/src/.cache/kobert_news_wiki_ko_cased-1087f8699e.spiece\n",
      "1/1 [==============================] - 0s 73ms/step\n",
      "1/1 [==============================] - 0s 92ms/step\n",
      "using cached model. /opt/ml/KorBertSum/src/./tmp/kobert_news_wiki_ko_cased-1087f8699e.spiece\n",
      "using cached model. /opt/ml/KorBertSum/src/.cache/kobert_news_wiki_ko_cased-1087f8699e.spiece\n",
      "using cached model. /opt/ml/KorBertSum/src/.cache/kobert_news_wiki_ko_cased-1087f8699e.spiece\n",
      "1/1 [==============================] - 0s 51ms/step\n",
      "1/1 [==============================] - 0s 91ms/step\n",
      "using cached model. /opt/ml/KorBertSum/src/./tmp/kobert_news_wiki_ko_cased-1087f8699e.spiece\n",
      "using cached model. /opt/ml/KorBertSum/src/.cache/kobert_news_wiki_ko_cased-1087f8699e.spiece\n",
      "using cached model. /opt/ml/KorBertSum/src/.cache/kobert_news_wiki_ko_cased-1087f8699e.spiece\n",
      "6.0293 sec\n"
     ]
    },
    {
     "data": {
      "text/html": [
       "<div>\n",
       "<style scoped>\n",
       "    .dataframe tbody tr th:only-of-type {\n",
       "        vertical-align: middle;\n",
       "    }\n",
       "\n",
       "    .dataframe tbody tr th {\n",
       "        vertical-align: top;\n",
       "    }\n",
       "\n",
       "    .dataframe thead th {\n",
       "        text-align: right;\n",
       "    }\n",
       "</style>\n",
       "<table border=\"1\" class=\"dataframe\">\n",
       "  <thead>\n",
       "    <tr style=\"text-align: right;\">\n",
       "      <th></th>\n",
       "      <th>Unnamed: 0</th>\n",
       "      <th>title</th>\n",
       "      <th>originallink</th>\n",
       "      <th>link</th>\n",
       "      <th>description</th>\n",
       "      <th>pubDate</th>\n",
       "      <th>context</th>\n",
       "      <th>text</th>\n",
       "      <th>topk</th>\n",
       "    </tr>\n",
       "  </thead>\n",
       "  <tbody>\n",
       "    <tr>\n",
       "      <th>0</th>\n",
       "      <td>0</td>\n",
       "      <td>&lt;b&gt;삼성전자&lt;/b&gt;, &lt;b&gt;버즈2프로&lt;/b&gt; SW &lt;b&gt;업데이트&lt;/b&gt;…&amp;quot...</td>\n",
       "      <td>https://www.yna.co.kr/view/AKR2023011303230001...</td>\n",
       "      <td>https://n.news.naver.com/mnews/article/001/001...</td>\n",
       "      <td>&lt;b&gt;삼성전자&lt;/b&gt;는 스마트폰으로 동영상 촬영 시 전방위서 들려오는 소리를 녹음할...</td>\n",
       "      <td>Fri, 13 Jan 2023 09:12:00 +0900</td>\n",
       "      <td>= 삼성전자는 스마트폰으로 동영상 촬영 시 전방위서 들려오는 소리를 녹음할 수 있도...</td>\n",
       "      <td>[(0, 삼성전자는 스마트폰으로 동영상 촬영 시 전방위서 들려오는 소리를 녹음할 수...</td>\n",
       "      <td>[(2,  녹음에는 차세대 블루투스 오디오 기술  표준인 LE 오디오가 적용됐다. ...</td>\n",
       "    </tr>\n",
       "    <tr>\n",
       "      <th>1</th>\n",
       "      <td>1</td>\n",
       "      <td>&lt;b&gt;삼성전자&lt;/b&gt;, &lt;b&gt;버즈2프로&lt;/b&gt; SW &lt;b&gt;업데이트&lt;/b&gt;…스마트폰 ...</td>\n",
       "      <td>http://www.ezyeconomy.com/news/articleView.htm...</td>\n",
       "      <td>http://www.ezyeconomy.com/news/articleView.htm...</td>\n",
       "      <td>&lt;b&gt;삼성전자&lt;/b&gt;는 갤럭시 &lt;b&gt;버즈2 프로&lt;/b&gt;와 갤럭시 Z 플립4·폴드4의...</td>\n",
       "      <td>Mon, 16 Jan 2023 10:04:00 +0900</td>\n",
       "      <td>[=김진이 기자] 삼성전자는 갤럭시 버즈2 프로와 갤럭시 Z 플립4·폴드4의 소프트...</td>\n",
       "      <td>[(0, 삼성전자는 갤럭시 버즈 2 프로와 갤럭시 Z 플립4 폴드4의 소프트웨어 S...</td>\n",
       "      <td>[(5,  삼성전자는 스마트폰 동영상 촬영 시 360도 사운드 녹음이 가능하도록 갤...</td>\n",
       "    </tr>\n",
       "    <tr>\n",
       "      <th>2</th>\n",
       "      <td>2</td>\n",
       "      <td>&lt;b&gt;삼성전자&lt;/b&gt;, &lt;b&gt;버즈2프로&lt;/b&gt; SW &lt;b&gt;업데이트&lt;/b&gt;…&amp;quot...</td>\n",
       "      <td>https://www.joongang.co.kr/article/25133414</td>\n",
       "      <td>https://n.news.naver.com/mnews/article/025/000...</td>\n",
       "      <td>&lt;b&gt;삼성전자&lt;/b&gt;에 따르면, 이날부터 소프트웨어를 &lt;b&gt;업데이트&lt;/b&gt;하면 &lt;b...</td>\n",
       "      <td>Fri, 13 Jan 2023 10:46:00 +0900</td>\n",
       "      <td>삼성전자가 스마트폰으로 동영상 촬영 시 전방위서 들려오는 소리를 녹음할 수 있도록 ...</td>\n",
       "      <td>[(0, 삼성전자가 스마트폰으로 동영상 촬영 시 전방위서 들려오는 소리를 녹음할 수...</td>\n",
       "      <td>[(2,  녹음에는 차세대 블 루투스 오디오 기술 표준인 LE 오디오가 적용됐다. ...</td>\n",
       "    </tr>\n",
       "    <tr>\n",
       "      <th>3</th>\n",
       "      <td>3</td>\n",
       "      <td>&lt;b&gt;삼성전자 버즈2 프로 업데이트&lt;/b&gt;···“360도 소리 녹음 지원”</td>\n",
       "      <td>https://www.khan.co.kr/economy/business/articl...</td>\n",
       "      <td>https://n.news.naver.com/mnews/article/032/000...</td>\n",
       "      <td>&lt;b&gt;삼성전자&lt;/b&gt;는 스마트폰으로 동영상 촬영 시 전방위에서 들려오는 소리를 녹음...</td>\n",
       "      <td>Fri, 13 Jan 2023 11:58:00 +0900</td>\n",
       "      <td>삼성전자는 스마트폰으로 동영상 촬영 시 전방위에서 들려오는 소리를 녹음할 수 있도록...</td>\n",
       "      <td>[(0, 삼성전자는 스마트폰으로 동영상 촬영 시 전방위에서 들려오는 소리를 녹음할 ...</td>\n",
       "      <td>[(2,  녹음에는 차세대 블루투스 오디오 기술 표 준인 LE 오디오가 적용됐다. ...</td>\n",
       "    </tr>\n",
       "    <tr>\n",
       "      <th>4</th>\n",
       "      <td>4</td>\n",
       "      <td>[기업] &lt;b&gt;삼성&lt;/b&gt;, 무선이어폰 &lt;b&gt;업데이트&lt;/b&gt;로 360도 사운드 녹음 가능</td>\n",
       "      <td>https://www.ytn.co.kr/_ln/0102_202301131647168253</td>\n",
       "      <td>https://n.news.naver.com/mnews/article/052/000...</td>\n",
       "      <td>&lt;b&gt;삼성전자&lt;/b&gt;가 갤럭시 &lt;b&gt;버즈2 프로&lt;/b&gt; 소프트웨어 &lt;b&gt;업데이트&lt;/...</td>\n",
       "      <td>Fri, 13 Jan 2023 16:47:00 +0900</td>\n",
       "      <td>삼성전자가 갤럭시 버즈2 프로 소프트웨어 업데이트를 통해 스마트폰 카메라 사용성을 ...</td>\n",
       "      <td>[(0, 삼성전자가 갤럭시 버즈 2 프로 소프트웨어 업데이트를 통해 스마트폰 카메라...</td>\n",
       "      <td>[(0, 삼성전자가 갤럭시 버즈 2 프로 소프트웨어 업데이트를 통해 스마트폰 카메라...</td>\n",
       "    </tr>\n",
       "  </tbody>\n",
       "</table>\n",
       "</div>"
      ],
      "text/plain": [
       "   Unnamed: 0                                              title  \\\n",
       "0           0  <b>삼성전자</b>, <b>버즈2프로</b> SW <b>업데이트</b>…&quot...   \n",
       "1           1  <b>삼성전자</b>, <b>버즈2프로</b> SW <b>업데이트</b>…스마트폰 ...   \n",
       "2           2  <b>삼성전자</b>, <b>버즈2프로</b> SW <b>업데이트</b>…&quot...   \n",
       "3           3          <b>삼성전자 버즈2 프로 업데이트</b>···“360도 소리 녹음 지원”   \n",
       "4           4  [기업] <b>삼성</b>, 무선이어폰 <b>업데이트</b>로 360도 사운드 녹음 가능   \n",
       "\n",
       "                                        originallink  \\\n",
       "0  https://www.yna.co.kr/view/AKR2023011303230001...   \n",
       "1  http://www.ezyeconomy.com/news/articleView.htm...   \n",
       "2        https://www.joongang.co.kr/article/25133414   \n",
       "3  https://www.khan.co.kr/economy/business/articl...   \n",
       "4  https://www.ytn.co.kr/_ln/0102_202301131647168253   \n",
       "\n",
       "                                                link  \\\n",
       "0  https://n.news.naver.com/mnews/article/001/001...   \n",
       "1  http://www.ezyeconomy.com/news/articleView.htm...   \n",
       "2  https://n.news.naver.com/mnews/article/025/000...   \n",
       "3  https://n.news.naver.com/mnews/article/032/000...   \n",
       "4  https://n.news.naver.com/mnews/article/052/000...   \n",
       "\n",
       "                                         description  \\\n",
       "0  <b>삼성전자</b>는 스마트폰으로 동영상 촬영 시 전방위서 들려오는 소리를 녹음할...   \n",
       "1  <b>삼성전자</b>는 갤럭시 <b>버즈2 프로</b>와 갤럭시 Z 플립4·폴드4의...   \n",
       "2  <b>삼성전자</b>에 따르면, 이날부터 소프트웨어를 <b>업데이트</b>하면 <b...   \n",
       "3  <b>삼성전자</b>는 스마트폰으로 동영상 촬영 시 전방위에서 들려오는 소리를 녹음...   \n",
       "4  <b>삼성전자</b>가 갤럭시 <b>버즈2 프로</b> 소프트웨어 <b>업데이트</...   \n",
       "\n",
       "                           pubDate  \\\n",
       "0  Fri, 13 Jan 2023 09:12:00 +0900   \n",
       "1  Mon, 16 Jan 2023 10:04:00 +0900   \n",
       "2  Fri, 13 Jan 2023 10:46:00 +0900   \n",
       "3  Fri, 13 Jan 2023 11:58:00 +0900   \n",
       "4  Fri, 13 Jan 2023 16:47:00 +0900   \n",
       "\n",
       "                                             context  \\\n",
       "0  = 삼성전자는 스마트폰으로 동영상 촬영 시 전방위서 들려오는 소리를 녹음할 수 있도...   \n",
       "1  [=김진이 기자] 삼성전자는 갤럭시 버즈2 프로와 갤럭시 Z 플립4·폴드4의 소프트...   \n",
       "2  삼성전자가 스마트폰으로 동영상 촬영 시 전방위서 들려오는 소리를 녹음할 수 있도록 ...   \n",
       "3  삼성전자는 스마트폰으로 동영상 촬영 시 전방위에서 들려오는 소리를 녹음할 수 있도록...   \n",
       "4  삼성전자가 갤럭시 버즈2 프로 소프트웨어 업데이트를 통해 스마트폰 카메라 사용성을 ...   \n",
       "\n",
       "                                                text  \\\n",
       "0  [(0, 삼성전자는 스마트폰으로 동영상 촬영 시 전방위서 들려오는 소리를 녹음할 수...   \n",
       "1  [(0, 삼성전자는 갤럭시 버즈 2 프로와 갤럭시 Z 플립4 폴드4의 소프트웨어 S...   \n",
       "2  [(0, 삼성전자가 스마트폰으로 동영상 촬영 시 전방위서 들려오는 소리를 녹음할 수...   \n",
       "3  [(0, 삼성전자는 스마트폰으로 동영상 촬영 시 전방위에서 들려오는 소리를 녹음할 ...   \n",
       "4  [(0, 삼성전자가 갤럭시 버즈 2 프로 소프트웨어 업데이트를 통해 스마트폰 카메라...   \n",
       "\n",
       "                                                topk  \n",
       "0  [(2,  녹음에는 차세대 블루투스 오디오 기술  표준인 LE 오디오가 적용됐다. ...  \n",
       "1  [(5,  삼성전자는 스마트폰 동영상 촬영 시 360도 사운드 녹음이 가능하도록 갤...  \n",
       "2  [(2,  녹음에는 차세대 블 루투스 오디오 기술 표준인 LE 오디오가 적용됐다. ...  \n",
       "3  [(2,  녹음에는 차세대 블루투스 오디오 기술 표 준인 LE 오디오가 적용됐다. ...  \n",
       "4  [(0, 삼성전자가 갤럭시 버즈 2 프로 소프트웨어 업데이트를 통해 스마트폰 카메라...  "
      ]
     },
     "execution_count": 83,
     "metadata": {},
     "output_type": "execute_result"
    }
   ],
   "source": [
    "df = make_df('result5', model)\n",
    "df"
   ]
  },
  {
   "cell_type": "code",
   "execution_count": 88,
   "id": "9c540883-931a-4730-b4b2-c0c3f8c3ca93",
   "metadata": {},
   "outputs": [
    {
     "data": {
      "text/plain": [
       "[(0,\n",
       "  '삼성전자가 스마트폰으로 동영상 촬영 시 전방위서 들려오는 소리를 녹음할 수 있도록 갤럭시 버즈 2 프로 및 갤럭시 Z 플립4 폴드4의 소프트웨어 업데이트를 13일부터 시행한다.'),\n",
       " (1,\n",
       "  '삼성전자에 따르면, 이 날부터 소프트웨어를 업데이트하면 버즈 2 프로 좌우에 있는 마이크가 모두 사용돼 360도에서 들려오는 소리를 플립 4 폴드4로 녹음할 수 있다.'),\n",
       " (2,\n",
       "  '녹음에는 차세대 블 루투스 오디오 기술 표준인 LE 오디오가 적용됐다.이와 함께 삼성전자는 다음 달 갤럭시 워치5와 워치 4 시리즈에 카메라 줌 인, 줌 아웃 기능을 추가한다고 전했다.'),\n",
       " (3,\n",
       "  '삼성전자는 갤럭시 제품 간 연동을 통해 더욱 향상된 카메라 경험을 제공할 것 이라며 다음 달 진행되는 갤럭시 언팩에서 새로운 갤럭시 스마트폰과 관련된 더 많은 내용을 소개할 것 이라고 말했 다.')]"
      ]
     },
     "execution_count": 88,
     "metadata": {},
     "output_type": "execute_result"
    }
   ],
   "source": [
    "i = 2\n",
    "df['text'][i]"
   ]
  },
  {
   "cell_type": "code",
   "execution_count": 89,
   "id": "26cc4606-9cc4-499d-b677-2a9b4afbbadc",
   "metadata": {},
   "outputs": [
    {
     "data": {
      "text/plain": [
       "[(2, ' 녹음에는 차세대 블 루투스 오디오 기술 표준인 LE 오디오가 적용됐다. '),\n",
       " (4,\n",
       "  ' 삼성전자는 갤럭시 제품 간 연동을 통해 더욱 향상된 카메라 경험을 제공할 것 이라며 다음 달 진행되는 갤럭시 언팩에서 새로운 갤럭시 스마트폰과 관련된 더 많은 내용을 소개할 것 이라고 말했 다. ')]"
      ]
     },
     "execution_count": 89,
     "metadata": {},
     "output_type": "execute_result"
    }
   ],
   "source": [
    "df['topk'][i]"
   ]
  },
  {
   "cell_type": "code",
   "execution_count": 71,
   "id": "eac053d2-8a74-4dc3-ac59-5e20e0d48d72",
   "metadata": {},
   "outputs": [],
   "source": [
    "df.to_csv('../result5_pre.csv')"
   ]
  },
  {
   "cell_type": "code",
   "execution_count": 90,
   "id": "3a63ddea-416e-4d49-b17d-e0fdc2511794",
   "metadata": {},
   "outputs": [
    {
     "name": "stdout",
     "output_type": "stream",
     "text": [
      "1/1 [==============================] - 0s 30ms/step\n",
      "1/1 [==============================] - 0s 28ms/step\n",
      "using cached model. /opt/ml/KorBertSum/src/./tmp/kobert_news_wiki_ko_cased-1087f8699e.spiece\n",
      "using cached model. /opt/ml/KorBertSum/src/.cache/kobert_news_wiki_ko_cased-1087f8699e.spiece\n",
      "using cached model. /opt/ml/KorBertSum/src/.cache/kobert_news_wiki_ko_cased-1087f8699e.spiece\n",
      "1/1 [==============================] - 0s 29ms/step\n",
      "1/1 [==============================] - 0s 28ms/step\n",
      "1/1 [==============================] - 0s 26ms/step\n",
      "1/1 [==============================] - 0s 27ms/step\n",
      "1/1 [==============================] - 0s 28ms/step\n",
      "1/1 [==============================] - 0s 27ms/step\n",
      "1/1 [==============================] - 0s 28ms/step\n",
      "using cached model. /opt/ml/KorBertSum/src/./tmp/kobert_news_wiki_ko_cased-1087f8699e.spiece\n",
      "using cached model. /opt/ml/KorBertSum/src/.cache/kobert_news_wiki_ko_cased-1087f8699e.spiece\n",
      "using cached model. /opt/ml/KorBertSum/src/.cache/kobert_news_wiki_ko_cased-1087f8699e.spiece\n",
      "1/1 [==============================] - 0s 29ms/step\n",
      "1/1 [==============================] - 0s 29ms/step\n",
      "1/1 [==============================] - 0s 26ms/step\n",
      "using cached model. /opt/ml/KorBertSum/src/./tmp/kobert_news_wiki_ko_cased-1087f8699e.spiece\n",
      "using cached model. /opt/ml/KorBertSum/src/.cache/kobert_news_wiki_ko_cased-1087f8699e.spiece\n",
      "using cached model. /opt/ml/KorBertSum/src/.cache/kobert_news_wiki_ko_cased-1087f8699e.spiece\n",
      "1/1 [==============================] - 0s 27ms/step\n",
      "1/1 [==============================] - 0s 30ms/step\n",
      "using cached model. /opt/ml/KorBertSum/src/./tmp/kobert_news_wiki_ko_cased-1087f8699e.spiece\n",
      "using cached model. /opt/ml/KorBertSum/src/.cache/kobert_news_wiki_ko_cased-1087f8699e.spiece\n",
      "using cached model. /opt/ml/KorBertSum/src/.cache/kobert_news_wiki_ko_cased-1087f8699e.spiece\n",
      "1/1 [==============================] - 0s 79ms/step\n",
      "1/1 [==============================] - 0s 164ms/step\n",
      "using cached model. /opt/ml/KorBertSum/src/./tmp/kobert_news_wiki_ko_cased-1087f8699e.spiece\n",
      "using cached model. /opt/ml/KorBertSum/src/.cache/kobert_news_wiki_ko_cased-1087f8699e.spiece\n",
      "using cached model. /opt/ml/KorBertSum/src/.cache/kobert_news_wiki_ko_cased-1087f8699e.spiece\n",
      "1/1 [==============================] - 0s 50ms/step\n",
      "1/1 [==============================] - 0s 57ms/step\n",
      "1/1 [==============================] - 0s 89ms/step\n",
      "1/1 [==============================] - 0s 170ms/step\n",
      "using cached model. /opt/ml/KorBertSum/src/./tmp/kobert_news_wiki_ko_cased-1087f8699e.spiece\n",
      "using cached model. /opt/ml/KorBertSum/src/.cache/kobert_news_wiki_ko_cased-1087f8699e.spiece\n",
      "using cached model. /opt/ml/KorBertSum/src/.cache/kobert_news_wiki_ko_cased-1087f8699e.spiece\n",
      "1/1 [==============================] - 0s 31ms/step\n",
      "1/1 [==============================] - 0s 38ms/step\n",
      "1/1 [==============================] - 0s 78ms/step\n",
      "1/1 [==============================] - 0s 68ms/step\n",
      "1/1 [==============================] - 0s 70ms/step\n",
      "using cached model. /opt/ml/KorBertSum/src/./tmp/kobert_news_wiki_ko_cased-1087f8699e.spiece\n",
      "using cached model. /opt/ml/KorBertSum/src/.cache/kobert_news_wiki_ko_cased-1087f8699e.spiece\n",
      "using cached model. /opt/ml/KorBertSum/src/.cache/kobert_news_wiki_ko_cased-1087f8699e.spiece\n",
      "1/1 [==============================] - 0s 86ms/step\n",
      "1/1 [==============================] - 0s 72ms/step\n",
      "1/1 [==============================] - 0s 78ms/step\n",
      "1/1 [==============================] - 0s 34ms/step\n",
      "1/1 [==============================] - 0s 34ms/step\n",
      "using cached model. /opt/ml/KorBertSum/src/./tmp/kobert_news_wiki_ko_cased-1087f8699e.spiece\n",
      "using cached model. /opt/ml/KorBertSum/src/.cache/kobert_news_wiki_ko_cased-1087f8699e.spiece\n",
      "using cached model. /opt/ml/KorBertSum/src/.cache/kobert_news_wiki_ko_cased-1087f8699e.spiece\n",
      "1/1 [==============================] - 0s 81ms/step\n",
      "1/1 [==============================] - 0s 74ms/step\n",
      "1/1 [==============================] - 0s 72ms/step\n",
      "1/1 [==============================] - 0s 42ms/step\n",
      "1/1 [==============================] - 0s 68ms/step\n",
      "1/1 [==============================] - 0s 75ms/step\n",
      "1/1 [==============================] - 0s 70ms/step\n",
      "1/1 [==============================] - 0s 40ms/step\n",
      "1/1 [==============================] - 0s 38ms/step\n",
      "1/1 [==============================] - 0s 65ms/step\n",
      "1/1 [==============================] - 0s 74ms/step\n",
      "1/1 [==============================] - 0s 72ms/step\n",
      "1/1 [==============================] - 0s 72ms/step\n",
      "1/1 [==============================] - 0s 72ms/step\n",
      "1/1 [==============================] - 0s 50ms/step\n",
      "using cached model. /opt/ml/KorBertSum/src/./tmp/kobert_news_wiki_ko_cased-1087f8699e.spiece\n",
      "using cached model. /opt/ml/KorBertSum/src/.cache/kobert_news_wiki_ko_cased-1087f8699e.spiece\n",
      "using cached model. /opt/ml/KorBertSum/src/.cache/kobert_news_wiki_ko_cased-1087f8699e.spiece\n",
      "1/1 [==============================] - 0s 60ms/step\n",
      "1/1 [==============================] - 0s 66ms/step\n",
      "1/1 [==============================] - 0s 81ms/step\n",
      "1/1 [==============================] - 0s 71ms/step\n",
      "1/1 [==============================] - 0s 47ms/step\n",
      "1/1 [==============================] - 0s 62ms/step\n",
      "using cached model. /opt/ml/KorBertSum/src/./tmp/kobert_news_wiki_ko_cased-1087f8699e.spiece\n",
      "using cached model. /opt/ml/KorBertSum/src/.cache/kobert_news_wiki_ko_cased-1087f8699e.spiece\n",
      "using cached model. /opt/ml/KorBertSum/src/.cache/kobert_news_wiki_ko_cased-1087f8699e.spiece\n",
      "15.6368 sec\n"
     ]
    }
   ],
   "source": [
    "df = make_df('result10', model)\n",
    "df.to_csv('../result10_pre.csv')"
   ]
  },
  {
   "cell_type": "code",
   "execution_count": 91,
   "id": "44716871-f71b-4e66-863a-4ab8e16420d3",
   "metadata": {},
   "outputs": [
    {
     "data": {
      "text/html": [
       "<div>\n",
       "<style scoped>\n",
       "    .dataframe tbody tr th:only-of-type {\n",
       "        vertical-align: middle;\n",
       "    }\n",
       "\n",
       "    .dataframe tbody tr th {\n",
       "        vertical-align: top;\n",
       "    }\n",
       "\n",
       "    .dataframe thead th {\n",
       "        text-align: right;\n",
       "    }\n",
       "</style>\n",
       "<table border=\"1\" class=\"dataframe\">\n",
       "  <thead>\n",
       "    <tr style=\"text-align: right;\">\n",
       "      <th></th>\n",
       "      <th>Unnamed: 0</th>\n",
       "      <th>title</th>\n",
       "      <th>originallink</th>\n",
       "      <th>link</th>\n",
       "      <th>description</th>\n",
       "      <th>pubDate</th>\n",
       "      <th>context</th>\n",
       "      <th>text</th>\n",
       "      <th>topk</th>\n",
       "    </tr>\n",
       "  </thead>\n",
       "  <tbody>\n",
       "    <tr>\n",
       "      <th>0</th>\n",
       "      <td>0</td>\n",
       "      <td>&lt;b&gt;삼성전자&lt;/b&gt;, &lt;b&gt;버즈2프로&lt;/b&gt; SW &lt;b&gt;업데이트&lt;/b&gt;…&amp;quot...</td>\n",
       "      <td>https://www.yna.co.kr/view/AKR2023011303230001...</td>\n",
       "      <td>https://n.news.naver.com/mnews/article/001/001...</td>\n",
       "      <td>&lt;b&gt;삼성전자&lt;/b&gt;는 스마트폰으로 동영상 촬영 시 전방위서 들려오는 소리를 녹음할...</td>\n",
       "      <td>Fri, 13 Jan 2023 09:12:00 +0900</td>\n",
       "      <td>= 삼성전자는 스마트폰으로 동영상 촬영 시 전방위서 들려오는 소리를 녹음할 수 있도...</td>\n",
       "      <td>[(0, 삼성전자는 스마트폰으로 동영상 촬영 시 전방위서 들려오는 소리를 녹음할 수...</td>\n",
       "      <td>[(2,  녹음에는 차세대 블루투스 오디오 기술  표준인 LE 오디오가 적용됐다. ...</td>\n",
       "    </tr>\n",
       "    <tr>\n",
       "      <th>1</th>\n",
       "      <td>1</td>\n",
       "      <td>&lt;b&gt;삼성전자&lt;/b&gt;, &lt;b&gt;버즈2프로&lt;/b&gt; SW &lt;b&gt;업데이트&lt;/b&gt;…스마트폰 ...</td>\n",
       "      <td>http://www.ezyeconomy.com/news/articleView.htm...</td>\n",
       "      <td>http://www.ezyeconomy.com/news/articleView.htm...</td>\n",
       "      <td>&lt;b&gt;삼성전자&lt;/b&gt;는 갤럭시 &lt;b&gt;버즈2 프로&lt;/b&gt;와 갤럭시 Z 플립4·폴드4의...</td>\n",
       "      <td>Mon, 16 Jan 2023 10:04:00 +0900</td>\n",
       "      <td>[=김진이 기자] 삼성전자는 갤럭시 버즈2 프로와 갤럭시 Z 플립4·폴드4의 소프트...</td>\n",
       "      <td>[(0, 삼성전자는 갤럭시 버즈 2 프로와 갤럭시 Z 플립4 폴드4의 소프트웨어 S...</td>\n",
       "      <td>[(5,  삼성전자는 스마트폰 동영상 촬영 시 360도 사운드 녹음이 가능하도록 갤...</td>\n",
       "    </tr>\n",
       "    <tr>\n",
       "      <th>2</th>\n",
       "      <td>2</td>\n",
       "      <td>&lt;b&gt;삼성전자&lt;/b&gt;, &lt;b&gt;버즈2프로&lt;/b&gt; SW &lt;b&gt;업데이트&lt;/b&gt;…&amp;quot...</td>\n",
       "      <td>https://www.joongang.co.kr/article/25133414</td>\n",
       "      <td>https://n.news.naver.com/mnews/article/025/000...</td>\n",
       "      <td>&lt;b&gt;삼성전자&lt;/b&gt;에 따르면, 이날부터 소프트웨어를 &lt;b&gt;업데이트&lt;/b&gt;하면 &lt;b...</td>\n",
       "      <td>Fri, 13 Jan 2023 10:46:00 +0900</td>\n",
       "      <td>삼성전자가 스마트폰으로 동영상 촬영 시 전방위서 들려오는 소리를 녹음할 수 있도록 ...</td>\n",
       "      <td>[(0, 삼성전자가 스마트폰으로 동영상 촬영 시 전방위서 들려오는 소리를 녹음할 수...</td>\n",
       "      <td>[(2,  녹음에는 차세대 블 루투스 오디오 기술 표준인 LE 오디오가 적용됐다. ...</td>\n",
       "    </tr>\n",
       "    <tr>\n",
       "      <th>3</th>\n",
       "      <td>3</td>\n",
       "      <td>&lt;b&gt;삼성전자 버즈2 프로 업데이트&lt;/b&gt;···“360도 소리 녹음 지원”</td>\n",
       "      <td>https://www.khan.co.kr/economy/business/articl...</td>\n",
       "      <td>https://n.news.naver.com/mnews/article/032/000...</td>\n",
       "      <td>&lt;b&gt;삼성전자&lt;/b&gt;는 스마트폰으로 동영상 촬영 시 전방위에서 들려오는 소리를 녹음...</td>\n",
       "      <td>Fri, 13 Jan 2023 11:58:00 +0900</td>\n",
       "      <td>삼성전자는 스마트폰으로 동영상 촬영 시 전방위에서 들려오는 소리를 녹음할 수 있도록...</td>\n",
       "      <td>[(0, 삼성전자는 스마트폰으로 동영상 촬영 시 전방위에서 들려오는 소리를 녹음할 ...</td>\n",
       "      <td>[(2,  녹음에는 차세대 블루투스 오디오 기술 표 준인 LE 오디오가 적용됐다. ...</td>\n",
       "    </tr>\n",
       "    <tr>\n",
       "      <th>4</th>\n",
       "      <td>4</td>\n",
       "      <td>[기업] &lt;b&gt;삼성&lt;/b&gt;, 무선이어폰 &lt;b&gt;업데이트&lt;/b&gt;로 360도 사운드 녹음 가능</td>\n",
       "      <td>https://www.ytn.co.kr/_ln/0102_202301131647168253</td>\n",
       "      <td>https://n.news.naver.com/mnews/article/052/000...</td>\n",
       "      <td>&lt;b&gt;삼성전자&lt;/b&gt;가 갤럭시 &lt;b&gt;버즈2 프로&lt;/b&gt; 소프트웨어 &lt;b&gt;업데이트&lt;/...</td>\n",
       "      <td>Fri, 13 Jan 2023 16:47:00 +0900</td>\n",
       "      <td>삼성전자가 갤럭시 버즈2 프로 소프트웨어 업데이트를 통해 스마트폰 카메라 사용성을 ...</td>\n",
       "      <td>[(0, 삼성전자가 갤럭시 버즈 2 프로 소프트웨어 업데이트를 통해 스마트폰 카메라...</td>\n",
       "      <td>[(0, 삼성전자가 갤럭시 버즈 2 프로 소프트웨어 업데이트를 통해 스마트폰 카메라...</td>\n",
       "    </tr>\n",
       "    <tr>\n",
       "      <th>5</th>\n",
       "      <td>5</td>\n",
       "      <td>갤워치로 스마트폰 카메라 줌 인·아웃…&lt;b&gt;삼성전자&lt;/b&gt;, 갤Z플립4 등 기능 &lt;...</td>\n",
       "      <td>https://sports.donga.com/article/all/20230116/...</td>\n",
       "      <td>https://n.news.naver.com/mnews/article/382/000...</td>\n",
       "      <td>&lt;b&gt;삼성전자&lt;/b&gt;는 스마트폰 동영상 촬영 시 360도 사운드 녹음이 가능하도록 ...</td>\n",
       "      <td>Mon, 16 Jan 2023 10:01:00 +0900</td>\n",
       "      <td>삼성전자는 스마트폰 동영상 촬영 시 360도 사운드 녹음이 가능하도록 '갤럭시버즈2...</td>\n",
       "      <td>[(0, 삼성전자는 스마트폰 동영상 촬영 시 360도 사운드 녹음이 가능하도록 갤럭...</td>\n",
       "      <td>[(3,  갤럭시 버즈 2 프로의 좌우에 위치한 마이크를 모두 사용해 360도 사운...</td>\n",
       "    </tr>\n",
       "    <tr>\n",
       "      <th>6</th>\n",
       "      <td>6</td>\n",
       "      <td>&lt;b&gt;삼성전자&lt;/b&gt;, &lt;b&gt;버즈2프로&lt;/b&gt;·갤워치 SW &lt;b&gt;업데이트&lt;/b&gt;…&amp;...</td>\n",
       "      <td>http://news.tf.co.kr/read/economy/1992273.htm</td>\n",
       "      <td>https://n.news.naver.com/mnews/article/629/000...</td>\n",
       "      <td>이번 &lt;b&gt;업데이트&lt;/b&gt;는 이날부터 시행되며 스마트폰으로 동영상 촬영 시 360 ...</td>\n",
       "      <td>Fri, 13 Jan 2023 10:57:00 +0900</td>\n",
       "      <td>삼성전자가 스마트폰과 웨어러블 기기의 연동을 강화해 카메라 사용성을 개선한다.삼성전...</td>\n",
       "      <td>[(0, 삼성전자가 스마트폰과 웨어러블 기기의 연동을 강화해 카메라 사용성을 개선한...</td>\n",
       "      <td>[(4, 360 오디오 레코딩은 차세대 블루투스 오디오 기술 표준인 LE 오디오 를...</td>\n",
       "    </tr>\n",
       "    <tr>\n",
       "      <th>7</th>\n",
       "      <td>7</td>\n",
       "      <td>&lt;b&gt;삼성전자&lt;/b&gt;, &lt;b&gt;버즈2 프로&lt;/b&gt; SW&lt;b&gt;업데이트&lt;/b&gt;…360 오...</td>\n",
       "      <td>http://www.m-i.kr/news/articleView.html?idxno=...</td>\n",
       "      <td>http://www.m-i.kr/news/articleView.html?idxno=...</td>\n",
       "      <td>사진=&lt;b&gt;삼성전자&lt;/b&gt; 제공  &lt;b&gt;삼성전자&lt;/b&gt;는 갤럭시 &lt;b&gt;버즈2 프로&lt;...</td>\n",
       "      <td>Fri, 13 Jan 2023 09:04:00 +0900</td>\n",
       "      <td>갤럭시 워치5·워치4 시리즈에 카메라 줌인·줌아웃 기능 탑재 사진=삼성전자 제공 [...</td>\n",
       "      <td>[(0, 갤럭시 워치5 워치4 시리즈에 카메라 줌인 줌 아웃 기능 탑재 사진 삼성전...</td>\n",
       "      <td>[(4,  LE 오디오 기술은 보다 풍부하고 섬세한 사운드, 매끄러운 연결성, 향상...</td>\n",
       "    </tr>\n",
       "    <tr>\n",
       "      <th>8</th>\n",
       "      <td>8</td>\n",
       "      <td>[&lt;b&gt;삼성&lt;/b&gt; 신성장동력] 新모델 없는 &amp;apos;갤럭시 &lt;b&gt;버즈&lt;/b&gt;&amp;a...</td>\n",
       "      <td>https://dealsite.co.kr/articles/97403</td>\n",
       "      <td>https://dealsite.co.kr/articles/97403</td>\n",
       "      <td>갤럭시 &lt;b&gt;버즈2 프로&lt;/b&gt;와 갤럭시 Z 플립4·폴드4의 소프트웨어 &lt;b&gt;업데이...</td>\n",
       "      <td>Mon, 16 Jan 2023 08:36:00 +0900</td>\n",
       "      <td>약 6개월 사이로 신제품을 출시하던 삼성전자는 이후 1년 만인 2022년 8월 버즈...</td>\n",
       "      <td>[(0, 약 6개월 사이로 신제품을 출시하던 삼성전자는 이후 1년 만인 2022년 ...</td>\n",
       "      <td>[(2,  13일 업계에 따르면 삼성전자는 2020년 2월 버즈 플러스 모델명 R1...</td>\n",
       "    </tr>\n",
       "    <tr>\n",
       "      <th>9</th>\n",
       "      <td>9</td>\n",
       "      <td>&lt;b&gt;삼성전자&lt;/b&gt;, &lt;b&gt;버즈2 프로&lt;/b&gt; SW&lt;b&gt;업데이트&lt;/b&gt;… 360도...</td>\n",
       "      <td>https://www.viva100.com/main/view.php?key=2023...</td>\n",
       "      <td>https://www.viva100.com/main/view.php?key=2023...</td>\n",
       "      <td>&lt;b&gt;삼성전자&lt;/b&gt;, &lt;b&gt;버즈2 프로&lt;/b&gt; SW&lt;b&gt;업데이트&lt;/b&gt;… 360도...</td>\n",
       "      <td>Fri, 13 Jan 2023 09:32:00 +0900</td>\n",
       "      <td>삼성전자는 갤럭시버즈2 프로와 갤럭시Z 플립4·폴드4의 소프트웨어 업데이트를 통해 ...</td>\n",
       "      <td>[(0, 삼성전자는 갤럭시 버즈 2 프로와 갤럭시Z 플립4 폴드4의 소프트웨어 업데...</td>\n",
       "      <td>[(4,  삼성전자는 갤럭시 버즈 2 프로와 갤럭시Z플립4와 폴드 4의 소프트웨어 ...</td>\n",
       "    </tr>\n",
       "  </tbody>\n",
       "</table>\n",
       "</div>"
      ],
      "text/plain": [
       "   Unnamed: 0                                              title  \\\n",
       "0           0  <b>삼성전자</b>, <b>버즈2프로</b> SW <b>업데이트</b>…&quot...   \n",
       "1           1  <b>삼성전자</b>, <b>버즈2프로</b> SW <b>업데이트</b>…스마트폰 ...   \n",
       "2           2  <b>삼성전자</b>, <b>버즈2프로</b> SW <b>업데이트</b>…&quot...   \n",
       "3           3          <b>삼성전자 버즈2 프로 업데이트</b>···“360도 소리 녹음 지원”   \n",
       "4           4  [기업] <b>삼성</b>, 무선이어폰 <b>업데이트</b>로 360도 사운드 녹음 가능   \n",
       "5           5  갤워치로 스마트폰 카메라 줌 인·아웃…<b>삼성전자</b>, 갤Z플립4 등 기능 <...   \n",
       "6           6  <b>삼성전자</b>, <b>버즈2프로</b>·갤워치 SW <b>업데이트</b>…&...   \n",
       "7           7  <b>삼성전자</b>, <b>버즈2 프로</b> SW<b>업데이트</b>…360 오...   \n",
       "8           8  [<b>삼성</b> 신성장동력] 新모델 없는 &apos;갤럭시 <b>버즈</b>&a...   \n",
       "9           9  <b>삼성전자</b>, <b>버즈2 프로</b> SW<b>업데이트</b>… 360도...   \n",
       "\n",
       "                                        originallink  \\\n",
       "0  https://www.yna.co.kr/view/AKR2023011303230001...   \n",
       "1  http://www.ezyeconomy.com/news/articleView.htm...   \n",
       "2        https://www.joongang.co.kr/article/25133414   \n",
       "3  https://www.khan.co.kr/economy/business/articl...   \n",
       "4  https://www.ytn.co.kr/_ln/0102_202301131647168253   \n",
       "5  https://sports.donga.com/article/all/20230116/...   \n",
       "6      http://news.tf.co.kr/read/economy/1992273.htm   \n",
       "7  http://www.m-i.kr/news/articleView.html?idxno=...   \n",
       "8              https://dealsite.co.kr/articles/97403   \n",
       "9  https://www.viva100.com/main/view.php?key=2023...   \n",
       "\n",
       "                                                link  \\\n",
       "0  https://n.news.naver.com/mnews/article/001/001...   \n",
       "1  http://www.ezyeconomy.com/news/articleView.htm...   \n",
       "2  https://n.news.naver.com/mnews/article/025/000...   \n",
       "3  https://n.news.naver.com/mnews/article/032/000...   \n",
       "4  https://n.news.naver.com/mnews/article/052/000...   \n",
       "5  https://n.news.naver.com/mnews/article/382/000...   \n",
       "6  https://n.news.naver.com/mnews/article/629/000...   \n",
       "7  http://www.m-i.kr/news/articleView.html?idxno=...   \n",
       "8              https://dealsite.co.kr/articles/97403   \n",
       "9  https://www.viva100.com/main/view.php?key=2023...   \n",
       "\n",
       "                                         description  \\\n",
       "0  <b>삼성전자</b>는 스마트폰으로 동영상 촬영 시 전방위서 들려오는 소리를 녹음할...   \n",
       "1  <b>삼성전자</b>는 갤럭시 <b>버즈2 프로</b>와 갤럭시 Z 플립4·폴드4의...   \n",
       "2  <b>삼성전자</b>에 따르면, 이날부터 소프트웨어를 <b>업데이트</b>하면 <b...   \n",
       "3  <b>삼성전자</b>는 스마트폰으로 동영상 촬영 시 전방위에서 들려오는 소리를 녹음...   \n",
       "4  <b>삼성전자</b>가 갤럭시 <b>버즈2 프로</b> 소프트웨어 <b>업데이트</...   \n",
       "5  <b>삼성전자</b>는 스마트폰 동영상 촬영 시 360도 사운드 녹음이 가능하도록 ...   \n",
       "6  이번 <b>업데이트</b>는 이날부터 시행되며 스마트폰으로 동영상 촬영 시 360 ...   \n",
       "7  사진=<b>삼성전자</b> 제공  <b>삼성전자</b>는 갤럭시 <b>버즈2 프로<...   \n",
       "8  갤럭시 <b>버즈2 프로</b>와 갤럭시 Z 플립4·폴드4의 소프트웨어 <b>업데이...   \n",
       "9  <b>삼성전자</b>, <b>버즈2 프로</b> SW<b>업데이트</b>… 360도...   \n",
       "\n",
       "                           pubDate  \\\n",
       "0  Fri, 13 Jan 2023 09:12:00 +0900   \n",
       "1  Mon, 16 Jan 2023 10:04:00 +0900   \n",
       "2  Fri, 13 Jan 2023 10:46:00 +0900   \n",
       "3  Fri, 13 Jan 2023 11:58:00 +0900   \n",
       "4  Fri, 13 Jan 2023 16:47:00 +0900   \n",
       "5  Mon, 16 Jan 2023 10:01:00 +0900   \n",
       "6  Fri, 13 Jan 2023 10:57:00 +0900   \n",
       "7  Fri, 13 Jan 2023 09:04:00 +0900   \n",
       "8  Mon, 16 Jan 2023 08:36:00 +0900   \n",
       "9  Fri, 13 Jan 2023 09:32:00 +0900   \n",
       "\n",
       "                                             context  \\\n",
       "0  = 삼성전자는 스마트폰으로 동영상 촬영 시 전방위서 들려오는 소리를 녹음할 수 있도...   \n",
       "1  [=김진이 기자] 삼성전자는 갤럭시 버즈2 프로와 갤럭시 Z 플립4·폴드4의 소프트...   \n",
       "2  삼성전자가 스마트폰으로 동영상 촬영 시 전방위서 들려오는 소리를 녹음할 수 있도록 ...   \n",
       "3  삼성전자는 스마트폰으로 동영상 촬영 시 전방위에서 들려오는 소리를 녹음할 수 있도록...   \n",
       "4  삼성전자가 갤럭시 버즈2 프로 소프트웨어 업데이트를 통해 스마트폰 카메라 사용성을 ...   \n",
       "5  삼성전자는 스마트폰 동영상 촬영 시 360도 사운드 녹음이 가능하도록 '갤럭시버즈2...   \n",
       "6  삼성전자가 스마트폰과 웨어러블 기기의 연동을 강화해 카메라 사용성을 개선한다.삼성전...   \n",
       "7  갤럭시 워치5·워치4 시리즈에 카메라 줌인·줌아웃 기능 탑재 사진=삼성전자 제공 [...   \n",
       "8  약 6개월 사이로 신제품을 출시하던 삼성전자는 이후 1년 만인 2022년 8월 버즈...   \n",
       "9  삼성전자는 갤럭시버즈2 프로와 갤럭시Z 플립4·폴드4의 소프트웨어 업데이트를 통해 ...   \n",
       "\n",
       "                                                text  \\\n",
       "0  [(0, 삼성전자는 스마트폰으로 동영상 촬영 시 전방위서 들려오는 소리를 녹음할 수...   \n",
       "1  [(0, 삼성전자는 갤럭시 버즈 2 프로와 갤럭시 Z 플립4 폴드4의 소프트웨어 S...   \n",
       "2  [(0, 삼성전자가 스마트폰으로 동영상 촬영 시 전방위서 들려오는 소리를 녹음할 수...   \n",
       "3  [(0, 삼성전자는 스마트폰으로 동영상 촬영 시 전방위에서 들려오는 소리를 녹음할 ...   \n",
       "4  [(0, 삼성전자가 갤럭시 버즈 2 프로 소프트웨어 업데이트를 통해 스마트폰 카메라...   \n",
       "5  [(0, 삼성전자는 스마트폰 동영상 촬영 시 360도 사운드 녹음이 가능하도록 갤럭...   \n",
       "6  [(0, 삼성전자가 스마트폰과 웨어러블 기기의 연동을 강화해 카메라 사용성을 개선한...   \n",
       "7  [(0, 갤럭시 워치5 워치4 시리즈에 카메라 줌인 줌 아웃 기능 탑재 사진 삼성전...   \n",
       "8  [(0, 약 6개월 사이로 신제품을 출시하던 삼성전자는 이후 1년 만인 2022년 ...   \n",
       "9  [(0, 삼성전자는 갤럭시 버즈 2 프로와 갤럭시Z 플립4 폴드4의 소프트웨어 업데...   \n",
       "\n",
       "                                                topk  \n",
       "0  [(2,  녹음에는 차세대 블루투스 오디오 기술  표준인 LE 오디오가 적용됐다. ...  \n",
       "1  [(5,  삼성전자는 스마트폰 동영상 촬영 시 360도 사운드 녹음이 가능하도록 갤...  \n",
       "2  [(2,  녹음에는 차세대 블 루투스 오디오 기술 표준인 LE 오디오가 적용됐다. ...  \n",
       "3  [(2,  녹음에는 차세대 블루투스 오디오 기술 표 준인 LE 오디오가 적용됐다. ...  \n",
       "4  [(0, 삼성전자가 갤럭시 버즈 2 프로 소프트웨어 업데이트를 통해 스마트폰 카메라...  \n",
       "5  [(3,  갤럭시 버즈 2 프로의 좌우에 위치한 마이크를 모두 사용해 360도 사운...  \n",
       "6  [(4, 360 오디오 레코딩은 차세대 블루투스 오디오 기술 표준인 LE 오디오 를...  \n",
       "7  [(4,  LE 오디오 기술은 보다 풍부하고 섬세한 사운드, 매끄러운 연결성, 향상...  \n",
       "8  [(2,  13일 업계에 따르면 삼성전자는 2020년 2월 버즈 플러스 모델명 R1...  \n",
       "9  [(4,  삼성전자는 갤럭시 버즈 2 프로와 갤럭시Z플립4와 폴드 4의 소프트웨어 ...  "
      ]
     },
     "execution_count": 91,
     "metadata": {},
     "output_type": "execute_result"
    }
   ],
   "source": [
    "df"
   ]
  },
  {
   "cell_type": "code",
   "execution_count": 92,
   "id": "6349d568-d550-45a9-a229-16fb2c5e751e",
   "metadata": {},
   "outputs": [
    {
     "data": {
      "text/plain": [
       "[(0, '삼성전자가 스마트폰과 웨어러블 기기의 연동을 강화해 카메라 사용성을 개선한다.'),\n",
       " (1,\n",
       "  '삼성전자는 스마트폰 동영상 촬영 시 360도 사운드 녹음이 가능하도록 무선어폰 갤럭시 버즈 2 프로 와 스마트폰 갤럭시Z플립 4 폴드4의 소프트웨어 업데이트를 시행한다고 13일 밝혔다.'),\n",
       " (2, '이번 업데이트는 이 날부터 시행되며 스마트폰으로 동영상 촬영 시 360 오디오 레코딩 기능을 지원 하는 것이 특징이다.'),\n",
       " (3,\n",
       "  '삼성전자는 갤럭시 버즈 2 프로의 좌우에 위치한 마이크를 모두 사용해 360도 사운드를 포착한 다 며 이를 통해 전문 장비 없이도 언제 어디서든, 누구나 고품질의 실감 나는 오디오를 동영상에 담을 수 있다 고 설명했다.360 오디오 레코딩은 차세대 블루투스 오디오 기술 표준인 LE 오디오 를 적용했다.'),\n",
       " (4, 'LE 오디오 기술은 풍부하고  섬세한 사운드, 매끄러운 연결성, 향상된 배터리 수명을 제공하는 것이 특징이다.'),\n",
       " (5,\n",
       "  '아울러 삼성전자는 스마트워치 갤럭시 워치5와 워치 4 시리즈도 소프트웨어 업데이트를 통해 스마트폰 카메라를 원격으로 줌 인 줌 아웃 할 수 있는 기능을 추가한다고 밝혔다.'),\n",
       " (6, '해당 기능은 2월 중 기존의 워치 카메라 컨트롤러 앱에 추가될 예정이다.'),\n",
       " (7,\n",
       "  '사용자는 시계 화면을 손가락으로 늘 리거나 줄이는 핀치 동작이나, 시계의 베젤을 돌려 갤럭시 스마트폰의 카메라 줌을 원격으로 제어할 수 있게 된다.'),\n",
       " (8, '이를 통해 스마트폰을 먼 거리에 세워 두고 촬영할 때 손쉽게 화면 배율 조정을 할 수 있다.'),\n",
       " (9, '해당 기능은 원 UI 소프트웨어 지원 스마트폰과 연동해 이용할 수 있다.'),\n",
       " (10, '적용 모델과 세부 시점은 추후 안내된다.'),\n",
       " (11,\n",
       "  '삼성전자 관계자는 삼성전자는 갤럭시  제품 간 연동을 통해 보다 향상된 카메라 경험을 제공할 것 이라며 다음 달 1일 열리는 갤럭시 언팩에서 새로운 갤럭시 스마트폰과 관련된 더 많은 내용들이 소개될 것 이라고 예고했다.'),\n",
       " (12, '카카오톡 더 팩트 제보 검색 이메일 뉴스 홈페이지')]"
      ]
     },
     "execution_count": 92,
     "metadata": {},
     "output_type": "execute_result"
    }
   ],
   "source": [
    "df['text'][6]"
   ]
  },
  {
   "cell_type": "code",
   "execution_count": 93,
   "id": "73c5e4b6-6c04-4935-9b8d-e728b15d5ea3",
   "metadata": {},
   "outputs": [
    {
     "data": {
      "text/plain": [
       "[(4, '360 오디오 레코딩은 차세대 블루투스 오디오 기술 표준인 LE 오디오 를 적용했다. '),\n",
       " (5, ' LE 오디오 기술은 풍부하고  섬세한 사운드, 매끄러운 연결성, 향상된 배터리 수명을 제공하는 것이 특징이다. '),\n",
       " (6,\n",
       "  ' 아울러 삼성전자는 스마트워치 갤럭시 워치5와 워치 4 시리즈도 소프트웨어 업데이트를 통해 스마트폰 카메라를 원격으로 줌 인 줌 아웃 할 수 있는 기능을 추가한다고 밝혔다. '),\n",
       " (8,\n",
       "  ' 사용자는 시계 화면을 손가락으로 늘 리거나 줄이는 핀치 동작이나, 시계의 베젤을 돌려 갤럭시 스마트폰의 카메라 줌을 원격으로 제어할 수 있게 된다. ')]"
      ]
     },
     "execution_count": 93,
     "metadata": {},
     "output_type": "execute_result"
    }
   ],
   "source": [
    "df['topk'][6]"
   ]
  },
  {
   "cell_type": "code",
   "execution_count": 99,
   "id": "7b0c12ec-80c6-4915-959d-543e780065af",
   "metadata": {},
   "outputs": [
    {
     "data": {
      "text/plain": [
       "[(4, '360 오디오 레코딩은 차세대 블루투스 오디오 기술 표준인 LE 오디오 를 적용했다. ')]"
      ]
     },
     "execution_count": 99,
     "metadata": {},
     "output_type": "execute_result"
    }
   ],
   "source": [
    "eval(str(df['topk'][6]))[:1]"
   ]
  },
  {
   "cell_type": "markdown",
   "id": "927ad25a-431a-4ddc-b991-c9659b49187b",
   "metadata": {},
   "source": [
    "## K-means 클러스터링"
   ]
  },
  {
   "cell_type": "code",
   "execution_count": 147,
   "id": "69409435-39f4-4fb3-8f91-0909a1385152",
   "metadata": {},
   "outputs": [
    {
     "name": "stdout",
     "output_type": "stream",
     "text": [
      "10\n",
      "38\n"
     ]
    }
   ],
   "source": [
    "first_sentences = []\n",
    "preprocessed_documents = []\n",
    "for a,b in zip(df['text'], df['topk']):\n",
    "    if(eval(str(b))[0][0] == 0):\n",
    "        first_sentences += eval(str(b))[:1]\n",
    "        preprocessed_documents += eval(str(b))[1:]\n",
    "    else:\n",
    "        first_sentences += eval(str(a))[:1]\n",
    "        preprocessed_documents += eval(str(b))\n",
    "    \n",
    "print(len(first_sentences))\n",
    "print(len(preprocessed_documents))"
   ]
  },
  {
   "cell_type": "code",
   "execution_count": 110,
   "id": "dd18e828-2a46-414e-b119-7914533afce6",
   "metadata": {},
   "outputs": [
    {
     "data": {
      "text/plain": [
       "\"(2, ' 녹음에는 차세대 블루투스 오디오 기술  표준인 LE 오디오가 적용됐다. ')\""
      ]
     },
     "execution_count": 110,
     "metadata": {},
     "output_type": "execute_result"
    }
   ],
   "source": [
    "str(preprocessed_documents[0][0])"
   ]
  },
  {
   "cell_type": "code",
   "execution_count": 111,
   "id": "58319794-9f11-4400-af9c-3c6385647e54",
   "metadata": {},
   "outputs": [
    {
     "data": {
      "text/plain": [
       "38"
      ]
     },
     "execution_count": 111,
     "metadata": {},
     "output_type": "execute_result"
    }
   ],
   "source": [
    "document_df = pd.DataFrame()\n",
    "document_df['opinion_text'] = [str(t) for t in preprocessed_documents]\n",
    "len(document_df)"
   ]
  },
  {
   "cell_type": "code",
   "execution_count": 167,
   "id": "fdfd4fcc-bf99-47ff-be2c-440bd6c5f119",
   "metadata": {},
   "outputs": [],
   "source": [
    "from sklearn.feature_extraction.text import TfidfVectorizer\n",
    "from nltk.stem import WordNetLemmatizer\n",
    "import nltk\n",
    "import string\n",
    "from sklearn.cluster import KMeans\n",
    "\n",
    "\n",
    "# 토큰화한 각 단어들의 원형들을 리스트로 담아서 반환\n",
    "def LemTokens(tokens):\n",
    "    return [lemmar.lemmatize(token) for token in tokens]\n",
    "\n",
    "# 텍스트를 Input으로 넣어서 토큰화시키고 토큰화된 단어들의 원형들을 리스트로 담아 반환\n",
    "def LemNormalize(text):\n",
    "    # .translate인자에 구두점 dict넣어주어서 구두점 삭제해준 상태로 토큰화시키기!\n",
    "    return LemTokens(nltk.word_tokenize(text.lower().translate(remove_punct_dict)))\n",
    "\n",
    "def get_clustered_df(sentences, clusternum):\n",
    "    print(clusternum)\n",
    "    document_df = pd.DataFrame()\n",
    "    document_df['opinion_text'] = [str(t) for t in sentences]\n",
    "    remove_punct_dict = dict((ord(punct), None) for punct in string.punctuation)\n",
    "\n",
    "    lemmar = WordNetLemmatizer()\n",
    "    tfidf_vect = TfidfVectorizer(tokenizer=LemNormalize,\n",
    "                            ngram_range=(1,2),\n",
    "                            min_df=0.05, max_df=0.85)\n",
    "\n",
    "    # fit_transform으로 위에서 구축한 도구로 텍스트 벡터화\n",
    "    ftr_vect = tfidf_vect.fit_transform(document_df['opinion_text'])\n",
    "    # K-means로 3개 군집으로 문서 군집화시키기\n",
    "\n",
    "    kmeans = KMeans(n_clusters=clusternum, max_iter=10000, random_state=42)\n",
    "    # 비지도 학습이니 feature로만 학습시키고 예측\n",
    "    cluster_label = kmeans.fit_predict(ftr_vect)\n",
    "    \n",
    "    # 군집화한 레이블값들을 document_df 에 추가하기\n",
    "    document_df['cluster_label'] = cluster_label\n",
    "    return document_df.sort_values(by=['cluster_label'])\n",
    "    "
   ]
  },
  {
   "cell_type": "code",
   "execution_count": 180,
   "id": "709a488f-eef4-4c74-94ad-e6f0736ff5a2",
   "metadata": {},
   "outputs": [
    {
     "name": "stdout",
     "output_type": "stream",
     "text": [
      "5\n",
      "                                         opinion_text  cluster_label\n",
      "18  (8, ' 사용자는 시계 화면을 손가락으로 늘 리거나 줄이는 핀치 동작이나, 시계의...              0\n",
      "31  (15, ' 하지만 이번에는 소프트웨어 업데이트 이외에  새로운 신제품 출시는 이뤄...              0\n",
      "28  (7, ' 신제품 대신 업데이트로 대응 업계에서는 올해 삼성전자의 무선 이어폰 신제...              0\n",
      "27  (6, ' 딜 사이트 김민기 기자 삼성전자의 새로운 먹거리로 보였던  무선 이어폰이...              0\n",
      "26  (5, ' 하지만 올해는 수익성, 재고 문제 등으로 인해 이어폰 신제품을 출시하지 ...              0\n",
      "22               (10, ' 적용 모델과 세부 시점은 추후 안내될 예정이다. ')              0\n",
      "20     (6, ' 이 기능은 다음 달 중 기존의 워치 카메라 컨트롤러 앱에 추가된다. ')              0\n",
      "36  (15, ' 해당 기능은 원 UI 소프트웨어 지원 스마트폰과 연동해 이 용할 수 있...              0\n",
      "17  (6, ' 아울러 삼성전자는 스마트워치 갤럭시 워치5와 워치 4 시리즈도 소프트웨어...              0\n",
      "13  (4, ' 갤럭시 워치5와 워치 4 시리즈의 카메라 줌 인 줌 아웃 기능은 2월 중...              0\n",
      "37                   (16, ' 적용 모델과 세부 시점은 추후 안내된다. ')              0\n",
      "8   (4, ' 삼성전자는 갤럭시 제품 간 연동을 통해 더욱 향상된 카메라 경험을 제공할...              0\n",
      "1   (3, '이와 함께 삼성전자는 다음 달 갤럭시 워치5와 워치 4 시리즈에 카메라 줌...              0\n",
      "5   (14, ' 사용자는 시계 화면을 손가락으로 늘리거나 줄이는 핀치 동작이나, 시계의...              0\n",
      "10  (4, ' 삼성전자 관계자는 갤럭시 제품 간 연동을 통해 더 향상된 카메라 경험을 ...              0\n",
      "4   (8, ' 전문 장비 없이도 누구나  언제 어디서든 고품질의 실감 나는 오디오를 동...              0\n",
      "0    (2, ' 녹음에는 차세대 블루투스 오디오 기술  표준인 LE 오디오가 적용됐다. ')              1\n",
      "35  (8, ' 특히 360 오디오 레코딩은 차세대 블루투스 오디오 기술 표준인 LE 오...              1\n",
      "9    (2, ' 녹음에는 차세대 블루투스 오디오 기술 표 준인 LE 오디오가 적용됐다. ')              1\n",
      "15  (4, '360 오디오 레코딩은 차세대 블루투스 오디오 기술 표준인 LE 오디오 를...              1\n",
      "16  (5, ' LE 오디오 기술은 풍부하고  섬세한 사운드, 매끄러운 연결성, 향상된 ...              1\n",
      "7    (2, ' 녹음에는 차세대 블 루투스 오디오 기술 표준인 LE 오디오가 적용됐다. ')              1\n",
      "19  (4, ' LE 오디오 기술은 보다 풍부하고 섬세한 사운드, 매끄러운 연결성, 향상...              1\n",
      "34  (6, ' 예를 들어, 버즈 2 프로를 착용하고, 연결된 Z플립 4 폴드4로 동영상...              2\n",
      "33  (4, ' 삼성전자는 갤럭시 버즈 2 프로와 갤럭시Z플립4와 폴드 4의 소프트웨어 ...              2\n",
      "2   (5, ' 삼성전자는 스마트폰 동영상 촬영 시 360도 사운드 녹음이 가능하도록 갤...              2\n",
      "3   (6, ' 사진 삼성전자 버즈 2 프로를 착용하고 360 오디오 레코 딩 기능을 통...              2\n",
      "11  (2, ' 소프트웨어 업데이트를 통해 버즈 2 프로 좌우에 있는 마이크로 사용자가 ...              2\n",
      "21  (8, ' 이를 통해 스마트폰을 먼 거리에 세워두고 단체 사진이나 단독 셀카를 찍을...              3\n",
      "6   (15, ' 이를 통해 스마트폰을 먼 거리에 세워 두고 단체 사진이나 단독 셀카를 ...              3\n",
      "14  (6, ' 스마트폰을 먼 거리에 세워 두고 단체 사진이나 단독 셀카를 찍을 때 카메...              3\n",
      "23  (2, ' 13일 업계에 따르면 삼성전자는 2020년 2월 버즈 플러스 모델명 R1...              4\n",
      "29  (8, ' 2024년에 보급형 라인인 버즈 3가 신제품으로 출시되고 고급형인 버즈 ...              4\n",
      "30  (14, ' 지난해 8월 갤럭시 언팩 2022에서 갤럭시 Z 시리즈와 함께 무선 이...              4\n",
      "32  (16, ' 삼성전자 관계자는 갤럭시 버즈 2 신제품 나온 지가 6개월 밖에 안 된...              4\n",
      "12  (3, ' 갤럭시 버즈 2 프로의 좌우에 위치한 마이크를 모두 사용해 360도 사운...              4\n",
      "25  (4, ' 삼성전자는 매년 갤럭시 버즈, 버즈 라이브, 버즈 프로 등 꾸준히 신제품...              4\n",
      "24  (3, ' 이어 2021년 1월 버즈 프로 R190 , 같은 해 8월 버즈 2 R1...              4\n"
     ]
    },
    {
     "name": "stderr",
     "output_type": "stream",
     "text": [
      "/opt/conda/lib/python3.8/site-packages/sklearn/feature_extraction/text.py:528: UserWarning: The parameter 'token_pattern' will not be used since 'tokenizer' is not None'\n",
      "  warnings.warn(\n",
      "/opt/conda/lib/python3.8/site-packages/sklearn/cluster/_kmeans.py:870: FutureWarning: The default value of `n_init` will change from 10 to 'auto' in 1.4. Set the value of `n_init` explicitly to suppress the warning\n",
      "  warnings.warn(\n"
     ]
    }
   ],
   "source": [
    "clusternum = len(preprocessed_documents)//7\n",
    "document_df = get_clustered_df(preprocessed_documents, clusternum)\n",
    "print(document_df)"
   ]
  },
  {
   "cell_type": "code",
   "execution_count": 181,
   "id": "c5ecf70d-684a-47d1-bf72-377145ccedfe",
   "metadata": {},
   "outputs": [],
   "source": [
    "def print_clustered_df(df, clabel):\n",
    "    for i,t in enumerate(df[df['cluster_label'] == clabel]['opinion_text']):\n",
    "        print(i, t)"
   ]
  },
  {
   "cell_type": "code",
   "execution_count": 183,
   "id": "6bcab6e8-6a7e-4712-93f8-c62e9ca436a3",
   "metadata": {},
   "outputs": [
    {
     "name": "stdout",
     "output_type": "stream",
     "text": [
      "0 (8, ' 사용자는 시계 화면을 손가락으로 늘 리거나 줄이는 핀치 동작이나, 시계의 베젤을 돌려 갤럭시 스마트폰의 카메라 줌을 원격으로 제어할 수 있게 된다. ')\n",
      "1 (15, ' 하지만 이번에는 소프트웨어 업데이트 이외에  새로운 신제품 출시는 이뤄지지 않는다. ')\n",
      "2 (7, ' 신제품 대신 업데이트로 대응 업계에서는 올해 삼성전자의 무선 이어폰 신제품 출시는 없을 것으로 전망하고 있다. ')\n",
      "3 (6, ' 딜 사이트 김민기 기자 삼성전자의 새로운 먹거리로 보였던  무선 이어폰이 애플이라는 큰 벽과 중국 기업의 저가 공세를 막지 못하면서 어려움을 겪고 있다. ')\n",
      "4 (5, ' 하지만 올해는 수익성, 재고 문제 등으로 인해 이어폰 신제품을 출시하지 않을 예정이다. ')\n",
      "5 (10, ' 적용 모델과 세부 시점은 추후 안내될 예정이다. ')\n",
      "6 (6, ' 이 기능은 다음 달 중 기존의 워치 카메라 컨트롤러 앱에 추가된다. ')\n",
      "7 (15, ' 해당 기능은 원 UI 소프트웨어 지원 스마트폰과 연동해 이 용할 수 있다. ')\n",
      "8 (6, ' 아울러 삼성전자는 스마트워치 갤럭시 워치5와 워치 4 시리즈도 소프트웨어 업데이트를 통해 스마트폰 카메라를 원격으로 줌 인 줌 아웃 할 수 있는 기능을 추가한다고 밝혔다. ')\n",
      "9 (4, ' 갤럭시 워치5와 워치 4 시리즈의 카메라 줌 인 줌 아웃 기능은 2월 중 기존 워치 카메라 컨트롤러 앱에 추가된다 . ')\n",
      "10 (16, ' 적용 모델과 세부 시점은 추후 안내된다. ')\n",
      "11 (4, ' 삼성전자는 갤럭시 제품 간 연동을 통해 더욱 향상된 카메라 경험을 제공할 것 이라며 다음 달 진행되는 갤럭시 언팩에서 새로운 갤럭시 스마트폰과 관련된 더 많은 내용을 소개할 것 이라고 말했 다. ')\n",
      "12 (3, '이와 함께 삼성전자는 다음 달 갤럭시 워치5와 워치 4 시리즈에 카메라 줌 인, 줌 아웃 기능을 추가한다고 전했다. ')\n",
      "13 (14, ' 사용자는 시계 화면을 손가락으로 늘리거나 줄이는 핀치 동작이나, 시계의 베젤을 돌려 갤럭시 스마트폰의 카메라 줌을 원격으로 제어할 수 있 게 된다. ')\n",
      "14 (4, ' 삼성전자 관계자는 갤럭시 제품 간 연동을 통해 더 향상된 카메라 경험을 제공할 것 이라며 다음 달 진행되는 갤럭시 언팩에서 새로운 갤럭시 스마트폰과 관련된 더 많은 내용을 소개하겠다 고 말했다. ')\n",
      "15 (8, ' 전문 장비 없이도 누구나  언제 어디서든 고품질의 실감 나는 오디오를 동영상에 담을 수 있다는 게 삼성전자의 설명이다. ')\n"
     ]
    }
   ],
   "source": [
    "print_clustered_df(document_df, 0)"
   ]
  },
  {
   "cell_type": "code",
   "execution_count": 184,
   "id": "2d67393a-d381-4c79-bdb4-8e1b99117f91",
   "metadata": {},
   "outputs": [
    {
     "name": "stdout",
     "output_type": "stream",
     "text": [
      "0 (2, ' 녹음에는 차세대 블루투스 오디오 기술  표준인 LE 오디오가 적용됐다. ')\n",
      "1 (8, ' 특히 360 오디오 레코딩은 차세대 블루투스 오디오 기술 표준인 LE 오 디오를 적용했다. ')\n",
      "2 (2, ' 녹음에는 차세대 블루투스 오디오 기술 표 준인 LE 오디오가 적용됐다. ')\n",
      "3 (4, '360 오디오 레코딩은 차세대 블루투스 오디오 기술 표준인 LE 오디오 를 적용했다. ')\n",
      "4 (5, ' LE 오디오 기술은 풍부하고  섬세한 사운드, 매끄러운 연결성, 향상된 배터리 수명을 제공하는 것이 특징이다. ')\n",
      "5 (2, ' 녹음에는 차세대 블 루투스 오디오 기술 표준인 LE 오디오가 적용됐다. ')\n",
      "6 (4, ' LE 오디오 기술은 보다 풍부하고 섬세한 사운드, 매끄러운 연결성, 향상된 배터리 수명을 제공한다고 회사는 설명했다. ')\n"
     ]
    }
   ],
   "source": [
    "print_clustered_df(document_df, 1)"
   ]
  },
  {
   "cell_type": "code",
   "execution_count": 199,
   "id": "352f57c8-27d8-4ad8-bc0e-894601a6295a",
   "metadata": {},
   "outputs": [
    {
     "name": "stdout",
     "output_type": "stream",
     "text": [
      "1.6903 sec\n",
      "삼성전자의 새로운 먹거리로 보였던 무선 이어폰이 애플이라는 큰 벽과 중국 기업의 저가 공세를 막지 못하면서 어려움을 겪고 있지만 올해는 수익성, 재고 문제 등으로 인해 이어폰 신제품을 출시하지 않을 예정이며  운영체제 업데이트 이외에  새로운 신제품 출시는 이뤄지지 않는다.\n",
      "6 1\n",
      "-----------------------------------------------\n",
      "2.0762 sec\n",
      "삼성전자는 갤럭시 워치5와 워치 4 시리즈도 소프트웨어 업데이트를 통해 스마트폰 카메라를 원격으로 줌 인 줌 아웃 할 수 있는 기능을 추가한다고 밝혔으며 갤럭시 워치5와 워치 4 시리즈의 카메라 줌 인 줌 아웃 기능은 2월 중 기존 워치 카메라 컨트롤러 앱에 추가된다.\n",
      "6 2\n",
      "-----------------------------------------------\n",
      "1.4541 sec\n",
      "삼성전자는 갤럭시 스마트폰의 카메라 줌을 원격으로 제어할 수 있는 소프트웨어 업데이트 이외에  새로운 신제품 출시는 이뤄지지 않으며 수익성, 재고 문제 등으로 인해 이어폰 신제품을 출시하지 않을 예정이다.       \n",
      "6 3\n",
      "-----------------------------------------------\n",
      "2.0094 sec\n",
      "삼성전자는 갤럭시 워치5와 워치 4 시리즈도 소프트웨어 업데이트를 통해 스마트폰 카메라를 원격으로 줌 인 줌 아웃 할 수 있는 기능을 추가한다고 밝혔으며 갤럭시 워치5와 워치 4 시리즈의 카메라 줌 인 줌 아웃 기능은 2월 중 기존 워치 카메라 컨트롤러 앱에 추가된다.\n",
      "6 4\n",
      "-----------------------------------------------\n",
      "1.7800 sec\n",
      "갤럭시 스마트폰의 카메라 줌을 원격으로 제어할 수 있는 소프트웨어 업데이트 이외에  새로운 신제품 출시는 이뤄지지 않으며 삼성전자는 무선 이어폰이 애플이라는 큰 벽과 중국 기업의 저가 공세를 막지 못하면서 어려움을 겪고 있지만 올해는 수익성, 재고 문제 등으로 인해 이어폰 신제품을 출시하지 않을 예정이다.\n",
      "6 5\n",
      "-----------------------------------------------\n",
      "1.9487 sec\n",
      "삼성전자는 갤럭시 워치5와 워치 4 시리즈도 소프트웨어 업데이트를 통해 스마트폰 카메라를 원격으로 줌 인 줌 아웃 할 수 있는 기능을 추가한다고 밝혔으며 갤럭시 워치5와 워치 4 시리즈의 카메라 줌 인 줌 아웃 기능은 2월 중 기존 워치 카메라 컨트롤러 앱에 추가된다.\n",
      "6 6\n",
      "-----------------------------------------------\n",
      "3.2667 sec\n"
     ]
    },
    {
     "data": {
      "text/plain": [
       "'삼성전자의 새로운 먹거리로 보였던 무선 이어폰이 애플이라는 큰 벽과 중국 기업의 저가 공세를 막지 못하면서 어려움을 겪고 있지만 올해는 수익성, 재고 문제 등으로 인해 이어폰 신제품을 출시하지 않을 예정이며 갤럭시 워치5와 워치 4 시리즈도 소프트웨어 업데이트를 통해 스마트폰 카메라를 원격으로 줌 인 줌 아웃 할 수 있는 기능을 추가한다고 밝혔으며 갤럭시 워치5와 워치 4 시리즈의 카메라 줌 인 줌 아웃 기능은 2월 중 기존 워치 카메라 컨트롤러 앱에 추가된다.'"
      ]
     },
     "execution_count": 199,
     "metadata": {},
     "output_type": "execute_result"
    }
   ],
   "source": [
    "summarize_topic2(document_df, 0)"
   ]
  },
  {
   "cell_type": "code",
   "execution_count": 230,
   "id": "fb850187-c03f-4ad4-80a6-b1772f4fb854",
   "metadata": {},
   "outputs": [
    {
     "name": "stdout",
     "output_type": "stream",
     "text": [
      "0 (8, ' 사용자는 시계 화면을 손가락으로 늘 리거나 줄이는 핀치 동작이나, 시계의 베젤을 돌려 갤럭시 스마트폰의 카메라 줌을 원격으로 제어할 수 있게 된다. ')\n",
      "1 (15, ' 하지만 이번에는 소프트웨어 업데이트 이외에  새로운 신제품 출시는 이뤄지지 않는다. ')\n",
      "2 (7, ' 신제품 대신 업데이트로 대응 업계에서는 올해 삼성전자의 무선 이어폰 신제품 출시는 없을 것으로 전망하고 있다. ')\n",
      "3 (6, ' 딜 사이트 김민기 기자 삼성전자의 새로운 먹거리로 보였던  무선 이어폰이 애플이라는 큰 벽과 중국 기업의 저가 공세를 막지 못하면서 어려움을 겪고 있다. ')\n",
      "4 (5, ' 하지만 올해는 수익성, 재고 문제 등으로 인해 이어폰 신제품을 출시하지 않을 예정이다. ')\n",
      "5 (10, ' 적용 모델과 세부 시점은 추후 안내될 예정이다. ')\n",
      "6 (6, ' 이 기능은 다음 달 중 기존의 워치 카메라 컨트롤러 앱에 추가된다. ')\n",
      "7 (15, ' 해당 기능은 원 UI 소프트웨어 지원 스마트폰과 연동해 이 용할 수 있다. ')\n",
      "8 (6, ' 아울러 삼성전자는 스마트워치 갤럭시 워치5와 워치 4 시리즈도 소프트웨어 업데이트를 통해 스마트폰 카메라를 원격으로 줌 인 줌 아웃 할 수 있는 기능을 추가한다고 밝혔다. ')\n",
      "9 (4, ' 갤럭시 워치5와 워치 4 시리즈의 카메라 줌 인 줌 아웃 기능은 2월 중 기존 워치 카메라 컨트롤러 앱에 추가된다 . ')\n",
      "10 (16, ' 적용 모델과 세부 시점은 추후 안내된다. ')\n",
      "11 (4, ' 삼성전자는 갤럭시 제품 간 연동을 통해 더욱 향상된 카메라 경험을 제공할 것 이라며 다음 달 진행되는 갤럭시 언팩에서 새로운 갤럭시 스마트폰과 관련된 더 많은 내용을 소개할 것 이라고 말했 다. ')\n",
      "12 (3, '이와 함께 삼성전자는 다음 달 갤럭시 워치5와 워치 4 시리즈에 카메라 줌 인, 줌 아웃 기능을 추가한다고 전했다. ')\n",
      "13 (14, ' 사용자는 시계 화면을 손가락으로 늘리거나 줄이는 핀치 동작이나, 시계의 베젤을 돌려 갤럭시 스마트폰의 카메라 줌을 원격으로 제어할 수 있 게 된다. ')\n",
      "14 (4, ' 삼성전자 관계자는 갤럭시 제품 간 연동을 통해 더 향상된 카메라 경험을 제공할 것 이라며 다음 달 진행되는 갤럭시 언팩에서 새로운 갤럭시 스마트폰과 관련된 더 많은 내용을 소개하겠다 고 말했다. ')\n",
      "15 (8, ' 전문 장비 없이도 누구나  언제 어디서든 고품질의 실감 나는 오디오를 동영상에 담을 수 있다는 게 삼성전자의 설명이다. ')\n",
      "---------------------------------------------------\n",
      "1.8050 sec\n",
      "갤럭시 스마트폰의 카메라 줌을 원격으로 제어할 수 있는 소프트웨어 업데이트 이외에  새로운 신제품 출시는 이뤄지지 않으며 삼성전자는 무선 이어폰이 애플이라는 큰 벽과 중국 기업의 저가 공세를 막지 못하면서 어려움을 겪고 있지만 올해는 수익성, 재고 문제 등으로 인해 이어폰 신제품을 출시하지 않을 예정이다.\n",
      "2 1\n",
      "-----------------------------------------------\n",
      "1.9605 sec\n",
      "삼성전자는 갤럭시 워치5와 워치 4 시리즈도 소프트웨어 업데이트를 통해 스마트폰 카메라를 원격으로 줌 인 줌 아웃 할 수 있는 기능을 추가한다고 밝혔으며 갤럭시 워치5와 워치 4 시리즈의 카메라 줌 인 줌 아웃 기능은 2월 중 기존 워치 카메라 컨트롤러 앱에 추가된다.\n",
      "2 2\n",
      "-----------------------------------------------\n",
      "2.8122 sec\n",
      "삼성전자는 무선 이어폰이 애플이라는 큰 벽과 중국 기업의 저가 공세를 막지 못하면서 어려움을 겪고 있지만 올해는 수익성, 재고 문제 등으로 인해 이어폰 신제품을 출시하지 않을 예정이라고 밝혔으며 갤럭시 워치5와 워치 4 시리즈도 소프트웨어 업데이트를 통해 스마트폰 카메라를 원격으로 줌 인 줌 아웃 할 수 있는 기능을 추가한다고 밝혔으며 갤럭시 워치5와 워치 4 시리즈의 카메라 줌 인 줌 아웃 기능은 2월 중 기존 워치 카메라 컨트롤러 앱에 추가된다.\n",
      "***************************************************\n",
      "0 (2, ' 녹음에는 차세대 블루투스 오디오 기술  표준인 LE 오디오가 적용됐다. ')\n",
      "1 (8, ' 특히 360 오디오 레코딩은 차세대 블루투스 오디오 기술 표준인 LE 오 디오를 적용했다. ')\n",
      "2 (2, ' 녹음에는 차세대 블루투스 오디오 기술 표 준인 LE 오디오가 적용됐다. ')\n",
      "3 (4, '360 오디오 레코딩은 차세대 블루투스 오디오 기술 표준인 LE 오디오 를 적용했다. ')\n",
      "4 (5, ' LE 오디오 기술은 풍부하고  섬세한 사운드, 매끄러운 연결성, 향상된 배터리 수명을 제공하는 것이 특징이다. ')\n",
      "5 (2, ' 녹음에는 차세대 블 루투스 오디오 기술 표준인 LE 오디오가 적용됐다. ')\n",
      "6 (4, ' LE 오디오 기술은 보다 풍부하고 섬세한 사운드, 매끄러운 연결성, 향상된 배터리 수명을 제공한다고 회사는 설명했다. ')\n",
      "---------------------------------------------------\n",
      "1.3737 sec\n",
      "360 오디오 레코딩은 차세대 블루투스 오디오 기술 표준인 LE 오디오를 적용했으며 녹음에는 풍부하고 섬세한 사운드, 매끄러운 연결성, 향상된 배터리 수명을 제공한다고 회사는 설명했다.\n",
      "1 1\n",
      "-----------------------------------------------\n",
      "360 오디오 레코딩은 차세대 블루투스 오디오 기술 표준인 LE 오디오를 적용했으며 녹음에는 풍부하고 섬세한 사운드, 매끄러운 연결성, 향상된 배터리 수명을 제공한다고 회사는 설명했다.\n",
      "***************************************************\n",
      "0 (6, ' 예를 들어, 버즈 2 프로를 착용하고, 연결된 Z플립 4 폴드4로 동영상을 촬영할 경우, 촬영자는 연결된 버즈 2 프로를 통해 본인이 듣는 그대로의 생생한 몰입형 사운드를 녹음할 수 있다. ')\n",
      "1 (4, ' 삼성전자는 갤럭시 버즈 2 프로와 갤럭시Z플립4와 폴드 4의 소프트웨어 업데이트를 통해 360도 오디오 레코딩 기능을 지원한다. ')\n",
      "2 (5, ' 삼성전자는 스마트폰 동영상 촬영 시 360도 사운드 녹음이 가능하도록 갤럭시 버즈 2 프로와 갤럭시 Z 플립4 폴드4의 소프트웨어 업데이트를 시행한다. ')\n",
      "3 (6, ' 사진 삼성전자 버즈 2 프로를 착용하고 360 오디오 레코 딩 기능을 통해 연결된 Z 플립4 폴드4로 북적 거리는 행사장 혹은 자연의 소리가 가득한 숲 한 가운데서 동영상을 촬영할 경우 촬영자는 연결된 버즈 2 프로를 통해 본인이 듣는 그대로의 생생한 몰입형 사운드를 녹음할 수 있게 된다. ')\n",
      "4 (2, ' 소프트웨어 업데이트를 통해 버즈 2 프로 좌우에 있는 마이크로 사용자가 듣는 그대로 의 소리를 생생하게 녹음할 수 있다고 삼성전자 측은 설명했습니다. ')\n",
      "---------------------------------------------------\n",
      "1.6851 sec\n",
      "삼성전자는 갤럭시 버즈 2 프로와 갤럭시Z플립4와 폴드4의 소프트웨어 업데이트를 통해 360도 오디오 레코딩 기능을 지원하며 촬영자는 연결된 버즈 2 프로를 통해 본인이 듣는 그대로의 생생한 몰입형 사운드를 녹음할 수 있다고 밝혔다.\n",
      "1 1\n",
      "-----------------------------------------------\n",
      "삼성전자는 갤럭시 버즈 2 프로와 갤럭시Z플립4와 폴드4의 소프트웨어 업데이트를 통해 360도 오디오 레코딩 기능을 지원하며 촬영자는 연결된 버즈 2 프로를 통해 본인이 듣는 그대로의 생생한 몰입형 사운드를 녹음할 수 있다고 밝혔다.\n",
      "***************************************************\n",
      "0 (8, ' 이를 통해 스마트폰을 먼 거리에 세워두고 단체 사진이나 단독 셀카를 찍을 때 카메라가 있는 곳까지 돌아갈 필요 없이 손목에서 바로 손쉽게 화면  배율 조정을 할 수 있게 된다. ')\n",
      "1 (15, ' 이를 통해 스마트폰을 먼 거리에 세워 두고 단체 사진이나 단독 셀카를 찍을 때 카메라가 있는 곳까지 돌아갈 필요 없이 손목에서 바로 손쉽게 화면 배율 조정이 가능해진다. ')\n",
      "2 (6, ' 스마트폰을 먼 거리에 세워 두고 단체 사진이나 단독 셀카를 찍을 때 카메라가 있는 곳까지 돌아갈 필요 없이 손목에서 바로 손쉽게 화면 배율 조정이 가능해진다. ')\n",
      "---------------------------------------------------\n",
      "2.0022 sec\n",
      "스마트폰을 먼 거리에 세워두고 단체 사진이나 단독 셀카를 찍을 때 카메라가 있는 곳까지 돌아갈 필요 없이 손목에서 바로 손쉽게 화면 배율 조정을 할 수 있게 되었으며, 편의를 통해 스마트폰을 먼 거리에 세워두고 단체 사진이나 단독 셀카를 찍을 때 카메라가 있는 곳까지 돌아갈 필요 없이 손목에서 바로 손쉽게 화면 배율 조정이 가능해진다.\n",
      "1 1\n",
      "-----------------------------------------------\n",
      "스마트폰을 먼 거리에 세워두고 단체 사진이나 단독 셀카를 찍을 때 카메라가 있는 곳까지 돌아갈 필요 없이 손목에서 바로 손쉽게 화면 배율 조정을 할 수 있게 되었으며, 편의를 통해 스마트폰을 먼 거리에 세워두고 단체 사진이나 단독 셀카를 찍을 때 카메라가 있는 곳까지 돌아갈 필요 없이 손목에서 바로 손쉽게 화면 배율 조정이 가능해진다.\n",
      "***************************************************\n",
      "0 (2, ' 13일 업계에 따르면 삼성전자는 2020년 2월 버즈 플러스 모델명 R175 를 첫 출 시한 이후 같은 해 8월 버 즈 라이브 R180 를 선 보였다. ')\n",
      "1 (8, ' 2024년에 보급형 라인인 버즈 3가 신제품으로 출시되고 고급형인 버즈 프로3는 2025년에나 나올 것으로 예상하고 있다. ')\n",
      "2 (14, ' 지난해 8월 갤럭시 언팩 2022에서 갤럭시 Z 시리즈와 함께 무선 이어폰 갤럭시 버즈 2 프로도 공개했다. ')\n",
      "3 (16, ' 삼성전자 관계자는 갤럭시 버즈 2 신제품 나온 지가 6개월 밖에 안 된 상황 이라며 올해 신제품 출시와 관련해서는 아직 잘 모르겠다 고 답했다. ')\n",
      "4 (3, ' 갤럭시 버즈 2 프로의 좌우에 위치한 마이크를 모두 사용해 360도 사운드를 포착하기 때문이다. ')\n",
      "5 (4, ' 삼성전자는 매년 갤럭시 버즈, 버즈 라이브, 버즈 프로 등 꾸준히 신제품을 출시했다. ')\n",
      "6 (3, ' 이어 2021년 1월 버즈 프로 R190 , 같은 해 8월 버즈 2 R177 를 출시했다. ')\n",
      "---------------------------------------------------\n",
      "1.7999 sec\n",
      "삼성전자는 2020년 2월 버즈 플러스 모델명 R175 를 첫 출 시한 이후 같은 해 8월 버 즈 라이브 R180 를 선 보였으며 2019년에 보급형 라인인 버즈 3가 신제품으로 출시되고 고급형인 버즈 프로3는 2025년에나 나올 것으로 예상하고 있다.\n",
      "1 1\n",
      "-----------------------------------------------\n",
      "삼성전자는 2020년 2월 버즈 플러스 모델명 R175 를 첫 출 시한 이후 같은 해 8월 버 즈 라이브 R180 를 선 보였으며 2019년에 보급형 라인인 버즈 3가 신제품으로 출시되고 고급형인 버즈 프로3는 2025년에나 나올 것으로 예상하고 있다.\n",
      "***************************************************\n"
     ]
    }
   ],
   "source": [
    "sum_result = []\n",
    "for c in range(5):\n",
    "    print_clustered_df(document_df, c)\n",
    "    print('---------------------------------------------------')\n",
    "    summ = summarize_topic2(document_df, c)\n",
    "    sum_result.append(summ)\n",
    "    print(summ)\n",
    "    print('***************************************************')\n",
    "    "
   ]
  },
  {
   "cell_type": "code",
   "execution_count": 231,
   "id": "6290952b-60e9-485b-af7b-5cb937241307",
   "metadata": {},
   "outputs": [
    {
     "data": {
      "text/plain": [
       "['삼성전자는 무선 이어폰이 애플이라는 큰 벽과 중국 기업의 저가 공세를 막지 못하면서 어려움을 겪고 있지만 올해는 수익성, 재고 문제 등으로 인해 이어폰 신제품을 출시하지 않을 예정이라고 밝혔으며 갤럭시 워치5와 워치 4 시리즈도 소프트웨어 업데이트를 통해 스마트폰 카메라를 원격으로 줌 인 줌 아웃 할 수 있는 기능을 추가한다고 밝혔으며 갤럭시 워치5와 워치 4 시리즈의 카메라 줌 인 줌 아웃 기능은 2월 중 기존 워치 카메라 컨트롤러 앱에 추가된다.',\n",
       " '360 오디오 레코딩은 차세대 블루투스 오디오 기술 표준인 LE 오디오를 적용했으며 녹음에는 풍부하고 섬세한 사운드, 매끄러운 연결성, 향상된 배터리 수명을 제공한다고 회사는 설명했다.',\n",
       " '삼성전자는 갤럭시 버즈 2 프로와 갤럭시Z플립4와 폴드4의 소프트웨어 업데이트를 통해 360도 오디오 레코딩 기능을 지원하며 촬영자는 연결된 버즈 2 프로를 통해 본인이 듣는 그대로의 생생한 몰입형 사운드를 녹음할 수 있다고 밝혔다.',\n",
       " '스마트폰을 먼 거리에 세워두고 단체 사진이나 단독 셀카를 찍을 때 카메라가 있는 곳까지 돌아갈 필요 없이 손목에서 바로 손쉽게 화면 배율 조정을 할 수 있게 되었으며, 편의를 통해 스마트폰을 먼 거리에 세워두고 단체 사진이나 단독 셀카를 찍을 때 카메라가 있는 곳까지 돌아갈 필요 없이 손목에서 바로 손쉽게 화면 배율 조정이 가능해진다.',\n",
       " '삼성전자는 2020년 2월 버즈 플러스 모델명 R175 를 첫 출 시한 이후 같은 해 8월 버 즈 라이브 R180 를 선 보였으며 2019년에 보급형 라인인 버즈 3가 신제품으로 출시되고 고급형인 버즈 프로3는 2025년에나 나올 것으로 예상하고 있다.']"
      ]
     },
     "execution_count": 231,
     "metadata": {},
     "output_type": "execute_result"
    }
   ],
   "source": [
    "sum_result"
   ]
  },
  {
   "cell_type": "code",
   "execution_count": 240,
   "id": "b6296c55-a33f-449f-a9ee-be9905602c03",
   "metadata": {},
   "outputs": [
    {
     "name": "stdout",
     "output_type": "stream",
     "text": [
      "1\n",
      "                                        opinion_text  cluster_label\n",
      "0  (0, '삼성전자는 스마트폰으로 동영상 촬영 시 전방위서 들려오는 소리를 녹음할 수...              0\n",
      "1  (0, '삼성전자는 갤럭시 버즈 2 프로와 갤럭시 Z 플립4 폴드4의 소프트웨어 S...              0\n",
      "2  (0, '삼성전자가 스마트폰으로 동영상 촬영 시 전방위서 들려오는 소리를 녹음할 수...              0\n",
      "3  (0, '삼성전자는 스마트폰으로 동영상 촬영 시 전방위에서 들려오는 소리를 녹음할 ...              0\n",
      "4  (0, '삼성전자가 갤럭시 버즈 2 프로 소프트웨어 업데이트를 통해 스마트폰 카메라...              0\n",
      "5  (0, '삼성전자는 스마트폰 동영상 촬영 시 360도 사운드 녹음이 가능하도록 갤럭...              0\n",
      "6  (0, '삼성전자가 스마트폰과 웨어러블 기기의 연동을 강화해 카메라 사용성을 개선한...              0\n",
      "7  (0, '갤럭시 워치5 워치4 시리즈에 카메라 줌인 줌 아웃 기능 탑재 사진 삼성전...              0\n",
      "8  (0, '약 6개월 사이로 신제품을 출시하던 삼성전자는 이후 1년 만인 2022년 ...              0\n",
      "9  (0, '삼성전자는 갤럭시 버즈 2 프로와 갤럭시Z 플립4 폴드4의 소프트웨어 업데...              0\n"
     ]
    },
    {
     "name": "stderr",
     "output_type": "stream",
     "text": [
      "/opt/conda/lib/python3.8/site-packages/sklearn/feature_extraction/text.py:528: UserWarning: The parameter 'token_pattern' will not be used since 'tokenizer' is not None'\n",
      "  warnings.warn(\n",
      "/opt/conda/lib/python3.8/site-packages/sklearn/cluster/_kmeans.py:870: FutureWarning: The default value of `n_init` will change from 10 to 'auto' in 1.4. Set the value of `n_init` explicitly to suppress the warning\n",
      "  warnings.warn(\n"
     ]
    }
   ],
   "source": [
    "clusternum = 1\n",
    "first_df = get_clustered_df(first_sentences, clusternum)\n",
    "print(first_df)"
   ]
  },
  {
   "cell_type": "code",
   "execution_count": 244,
   "id": "7debbf7c-20dd-4fb3-a5e8-6d3ef30832ec",
   "metadata": {},
   "outputs": [
    {
     "name": "stdout",
     "output_type": "stream",
     "text": [
      "0 (0, '삼성전자는 스마트폰으로 동영상 촬영 시 전방위서 들려오는 소리를 녹음할 수 있도록 갤럭시 버즈 2 프로 및 갤럭시 Z 플립4 폴드4의 소프트웨어 업데이트를 13일부터 시행한다고 밝혔다.')\n",
      "1 (0, '삼성전자는 갤럭시 버즈 2 프로와 갤럭시 Z 플립4 폴드4의 소프트웨어 SW 업데이트를 13일부터 시행한다.')\n",
      "2 (0, '삼성전자가 스마트폰으로 동영상 촬영 시 전방위서 들려오는 소리를 녹음할 수 있도록 갤럭시 버즈 2 프로 및 갤럭시 Z 플립4 폴드4의 소프트웨어 업데이트를 13일부터 시행한다.')\n",
      "3 (0, '삼성전자는 스마트폰으로 동영상 촬영 시 전방위에서 들려오는 소리를 녹음할 수 있도록 갤럭시 버즈 2 프로 및 갤럭시 Z 플립4 폴드4의 소프트웨어 업데이트를 시행한다고 13일 밝혔다.')\n",
      "4 (0, '삼성전자가 갤럭시 버즈 2 프로 소프트웨어 업데이트를 통해 스마트폰 카메라 사용성을 한 단계 더 높였습니다. ')\n",
      "5 (0, '삼성전자는 스마트폰 동영상 촬영 시 360도 사운드 녹음이 가능하도록 갤럭시 버즈 2 프로 와 갤럭시Z플립 4 폴드 4 의 소프트웨어 업데이트를 단행했다.')\n",
      "6 (0, '삼성전자가 스마트폰과 웨어러블 기기의 연동을 강화해 카메라 사용성을 개선한다.')\n",
      "7 (0, '갤럭시 워치5 워치4 시리즈에 카메라 줌인 줌 아웃 기능 탑재 사진 삼성전자 제공 신지하 기자 삼성전자는 갤럭시 버즈 2 프로와 갤럭시 Z 플립4 폴드4의 소프트웨어 업데이트를 통해 360 오디오 레코딩 기능을 지원한다고 13일 밝혔다.')\n",
      "8 (0, '약 6개월 사이로 신제품을 출시하던 삼성전자는 이후 1년 만인 2022년 8월 버즈 프로 2 R510 를 출시했다.')\n",
      "9 (0, '삼성전자는 갤럭시 버즈 2 프로와 갤럭시Z 플립4 폴드4의 소프트웨어 업데이트를 통해 360 오디오 레코딩 기능을 지원한다.')\n",
      "---------------------------------------------------\n",
      "2.4916 sec\n",
      "삼성전자는 스마트폰으로 스마트폰으로 동영상 촬영 시 전방위서 들려오는 소리를 녹음할 수 있도록 갤럭시 버즈 2 프로 및 갤럭시 Z 플립4 폴드4의 소프트웨어 업데이트를 13일부터 시행한다고 13일 밝혔다.  \n",
      "삼성전자는 스마트폰 동영상 촬영 시 360도 사운드 녹음이 가능하도록 갤럭시 버즈 2 프로 및 갤럭시 Z 플립4 폴드4의 소프트웨어 업데이트를 13일부터 시행한다고 밝혔다.\n",
      "***************************************************\n"
     ]
    }
   ],
   "source": [
    "sum_result2 = []\n",
    "for c in range(clusternum):\n",
    "    print_clustered_df(first_df, c)\n",
    "    print('---------------------------------------------------')\n",
    "    summ = summarize_topic(first_df, c)\n",
    "    sum_result2.append(summ)\n",
    "    print(summ)\n",
    "    print('***************************************************')\n",
    "    "
   ]
  },
  {
   "cell_type": "code",
   "execution_count": 245,
   "id": "9278cd09-36a3-4275-ae7d-a495d9bd349d",
   "metadata": {},
   "outputs": [
    {
     "data": {
      "text/plain": [
       "['삼성전자는 스마트폰으로 스마트폰으로 동영상 촬영 시 전방위서 들려오는 소리를 녹음할 수 있도록 갤럭시 버즈 2 프로 및 갤럭시 Z 플립4 폴드4의 소프트웨어 업데이트를 13일부터 시행한다고 13일 밝혔다.  \\n삼성전자는 스마트폰 동영상 촬영 시 360도 사운드 녹음이 가능하도록 갤럭시 버즈 2 프로 및 갤럭시 Z 플립4 폴드4의 소프트웨어 업데이트를 13일부터 시행한다고 밝혔다.']"
      ]
     },
     "execution_count": 245,
     "metadata": {},
     "output_type": "execute_result"
    }
   ],
   "source": [
    "sum_result2"
   ]
  },
  {
   "cell_type": "code",
   "execution_count": null,
   "id": "42b3b2a9-fe29-4d7f-b1d7-8572995ec3a7",
   "metadata": {},
   "outputs": [],
   "source": []
  },
  {
   "cell_type": "markdown",
   "id": "97e41767-b102-4861-8fae-7f4cd86349e9",
   "metadata": {},
   "source": [
    "## 생성 요약"
   ]
  },
  {
   "cell_type": "code",
   "execution_count": 136,
   "id": "4dcb631d-d646-4bb8-b340-d2ece294fce7",
   "metadata": {},
   "outputs": [
    {
     "name": "stderr",
     "output_type": "stream",
     "text": [
      "You passed along `num_labels=3` with an incompatible id to label map: {'0': 'NEGATIVE', '1': 'POSITIVE'}. The number of labels wil be overwritten to 2.\n"
     ]
    }
   ],
   "source": [
    "import time\n",
    "import pandas as pd\n",
    "import torch\n",
    "from transformers import PreTrainedTokenizerFast\n",
    "from transformers import BartForConditionalGeneration\n",
    "import random\n",
    "\n",
    "tokenizer = PreTrainedTokenizerFast.from_pretrained('digit82/kobart-summarization')\n",
    "model = BartForConditionalGeneration.from_pretrained('digit82/kobart-summarization')\n",
    "\n",
    "def make_summarization(sentences):\n",
    "    text = '\\n'.join(sentences)\n",
    "    start = time.time()\n",
    "    raw_input_ids = tokenizer.encode(text)\n",
    "    input_ids = [tokenizer.bos_token_id] + raw_input_ids + [tokenizer.eos_token_id]\n",
    "\n",
    "    summary_ids = model.generate(torch.tensor([input_ids]),  num_beams=4,  max_length=512, min_length=64,  eos_token_id=1)\n",
    "    print(f\"{time.time()-start:.4f} sec\")\n",
    "    sum_result = tokenizer.decode(summary_ids.squeeze().tolist(), skip_special_tokens=True)\n",
    "    return sum_result"
   ]
  },
  {
   "cell_type": "code",
   "execution_count": 227,
   "id": "4072020a-40c0-45a5-afe4-dc7bb57be7a4",
   "metadata": {},
   "outputs": [],
   "source": [
    "def make_summarization2(sentences):\n",
    "    split = []\n",
    "    for i in range(len(sentences)//8):\n",
    "        split.append(sentences[:8])\n",
    "        sentences = sentences[8:]\n",
    "\n",
    "    for i in range(len(split)):\n",
    "        if(len(sentences) == 0): break\n",
    "        split[i].append(sentences.pop())\n",
    "    \n",
    "    if(len(sentences) != 0): split.append(sentences)\n",
    "    \n",
    "    split_sum = []\n",
    "    for sentences in split:\n",
    "        text = '\\n'.join(sentences)\n",
    "        start = time.time()\n",
    "        raw_input_ids = tokenizer.encode(text)\n",
    "        input_ids = [tokenizer.bos_token_id] + raw_input_ids + [tokenizer.eos_token_id]\n",
    "\n",
    "        summary_ids = model.generate(torch.tensor([input_ids]),  num_beams=4,  max_length=512, min_length=48,  eos_token_id=1)\n",
    "        print(f\"{time.time()-start:.4f} sec\")\n",
    "        sum_result = tokenizer.decode(summary_ids.squeeze().tolist(), skip_special_tokens=True)\n",
    "        print(sum_result)\n",
    "        split_sum.append(sum_result)\n",
    "        print(len(split), len(split_sum))\n",
    "        print('-----------------------------------------------')\n",
    "    \n",
    "    if(len(split_sum)==1):\n",
    "        return split_sum[0]\n",
    "        \n",
    "    text = '\\n'.join(split_sum)\n",
    "    start = time.time()\n",
    "    raw_input_ids = tokenizer.encode(text)\n",
    "    input_ids = [tokenizer.bos_token_id] + raw_input_ids + [tokenizer.eos_token_id]\n",
    "\n",
    "    summary_ids = model.generate(torch.tensor([input_ids]),  num_beams=4,  max_length=512, min_length=48,  eos_token_id=1)\n",
    "    print(f\"{time.time()-start:.4f} sec\")\n",
    "    sum_result = tokenizer.decode(summary_ids.squeeze().tolist(), skip_special_tokens=True)\n",
    "    return sum_result"
   ]
  },
  {
   "cell_type": "code",
   "execution_count": 228,
   "id": "1bf3c8aa-5bfa-4e09-959a-a4cc426e0c75",
   "metadata": {},
   "outputs": [],
   "source": [
    "def summarize_topic2(document_df, topic_num):\n",
    "    sentences = []\n",
    "    for i,t in enumerate(document_df[document_df['cluster_label'] == topic_num]['opinion_text']):\n",
    "        sentences.append(eval(t)[1])\n",
    "    result = make_summarization2(sentences)\n",
    "    return result"
   ]
  },
  {
   "cell_type": "code",
   "execution_count": 229,
   "id": "cfbc7d4b-8747-4b84-abfe-9788bca09192",
   "metadata": {},
   "outputs": [
    {
     "name": "stdout",
     "output_type": "stream",
     "text": [
      "1.3985 sec\n",
      "360 오디오 레코딩은 차세대 블루투스 오디오 기술 표준인 LE 오디오를 적용했으며 녹음에는 풍부하고 섬세한 사운드, 매끄러운 연결성, 향상된 배터리 수명을 제공한다고 회사는 설명했다.\n",
      "1 1\n",
      "-----------------------------------------------\n"
     ]
    },
    {
     "data": {
      "text/plain": [
       "'360 오디오 레코딩은 차세대 블루투스 오디오 기술 표준인 LE 오디오를 적용했으며 녹음에는 풍부하고 섬세한 사운드, 매끄러운 연결성, 향상된 배터리 수명을 제공한다고 회사는 설명했다.'"
      ]
     },
     "execution_count": 229,
     "metadata": {},
     "output_type": "execute_result"
    }
   ],
   "source": [
    "result = summarize_topic2(document_df, 1)\n",
    "result"
   ]
  },
  {
   "cell_type": "code",
   "execution_count": 137,
   "id": "1e0e90f0-7a0b-46ce-bc5f-2d5cf010ea71",
   "metadata": {},
   "outputs": [
    {
     "name": "stdout",
     "output_type": "stream",
     "text": [
      "0 (5, ' 하지만 올해는 수익성, 재고 문제 등으로 인해 이어폰 신제품을 출시하지 않을 예정이다. ')\n",
      "1 (6, ' 딜 사이트 김민기 기자 삼성전자의 새로운 먹거리로 보였던  무선 이어폰이 애플이라는 큰 벽과 중국 기업의 저가 공세를 막지 못하면서 어려움을 겪고 있다. ')\n",
      "2 (7, ' 신제품 대신 업데이트로 대응 업계에서는 올해 삼성전자의 무선 이어폰 신제품 출시는 없을 것으로 전망하고 있다. ')\n",
      "3 (15, ' 하지만 이번에는 소프트웨어 업데이트 이외에  새로운 신제품 출시는 이뤄지지 않는다. ')\n",
      "4 (16, ' 삼성전자 관계자는 갤럭시 버즈 2 신제품 나온 지가 6개월 밖에 안 된 상황 이라며 올해 신제품 출시와 관련해서는 아직 잘 모르겠다 고 답했다. ')\n",
      "5 (15, ' 해당 기능은 원 UI 소프트웨어 지원 스마트폰과 연동해 이 용할 수 있다. ')\n"
     ]
    }
   ],
   "source": [
    "sentences = []\n",
    "for i,t in enumerate(document_df[document_df['cluster_label'] == 6]['opinion_text']):\n",
    "    print(i, t)\n",
    "    sentences.append(eval(t)[1])"
   ]
  },
  {
   "cell_type": "code",
   "execution_count": 138,
   "id": "693ae29f-6333-4c3f-a974-b546f185d6f7",
   "metadata": {},
   "outputs": [
    {
     "name": "stdout",
     "output_type": "stream",
     "text": [
      "1.7708 sec\n"
     ]
    },
    {
     "data": {
      "text/plain": [
       "'삼성전자의 새로운 먹거리로 보였던 무선 이어폰이 애플이라는 큰 벽과 중국 기업의 저가 공세를 막지 못하면서 어려움을 겪고 있는 가운데, 삼성전자는 올해 무선 이어폰 신제품 출시는 없을 것으로 전망하고 업데이트로 대응 업계에서는 올해 무선 이어폰 신제품 출시는 없을 것으로 전망하고 있다.     '"
      ]
     },
     "execution_count": 138,
     "metadata": {},
     "output_type": "execute_result"
    }
   ],
   "source": [
    "result = make_summarization(sentences)\n",
    "result"
   ]
  },
  {
   "cell_type": "code",
   "execution_count": 140,
   "id": "472b1863-6348-4585-9a15-ec7f22adc4e5",
   "metadata": {},
   "outputs": [],
   "source": [
    "def summarize_topic(document_df, topic_num):\n",
    "    sentences = []\n",
    "    for i,t in enumerate(document_df[document_df['cluster_label'] == topic_num]['opinion_text']):\n",
    "        sentences.append(eval(t)[1])\n",
    "    result = make_summarization(sentences)\n",
    "    return result"
   ]
  },
  {
   "cell_type": "code",
   "execution_count": 139,
   "id": "d443fb0e-bea4-47a8-840b-66ec68e27822",
   "metadata": {},
   "outputs": [
    {
     "name": "stdout",
     "output_type": "stream",
     "text": [
      "1.7528 sec\n"
     ]
    },
    {
     "data": {
      "text/plain": [
       "'더 풍부하고 섬세한 사운드, 매끄러운 연결성, 향상된 배터리 수명을 제공하는 LE 오디오 기술은 보다 풍부하고 섬세한 사운드, 섬세한 사운드, 매끄러운 연결성, 향상된 배터리 수명을 제공하는 것이 특징이라고 회사는 설명했다.         '"
      ]
     },
     "execution_count": 139,
     "metadata": {},
     "output_type": "execute_result"
    }
   ],
   "source": [
    "result = summarize_topic(document_df, 0)\n",
    "result"
   ]
  },
  {
   "cell_type": "code",
   "execution_count": 141,
   "id": "5c4be610-3725-4f59-9840-a8b6aacc9c8c",
   "metadata": {},
   "outputs": [
    {
     "name": "stdout",
     "output_type": "stream",
     "text": [
      "2.8699 sec\n"
     ]
    },
    {
     "data": {
      "text/plain": [
       "'삼성전자는 갤럭시 스마트폰 동영상 촬영 시 360도 사운드 녹음이 가능하도록 갤럭시 버즈 2 프로와 갤럭시 Z 플립4 폴드4의 소프트웨어 업데이트를 시행하여 사용자가 직접 듣는 그대로의 생생한 사운드를 녹음할 수 있다고 밝혔다.  \\n\\n\\n\\n\\n\\n\\n\\n\\n\\n\\n\\n\\n\\n\\n\\n\\n\\n\\n\\n\\n\\n\\n\\n\\n\\n\\n\\n\\n'"
      ]
     },
     "execution_count": 141,
     "metadata": {},
     "output_type": "execute_result"
    }
   ],
   "source": [
    "result1 = summarize_topic(document_df, 1)\n",
    "result1"
   ]
  },
  {
   "cell_type": "code",
   "execution_count": 142,
   "id": "eb06f49f-b75d-4ec5-9a65-e3ed859e5471",
   "metadata": {},
   "outputs": [
    {
     "name": "stdout",
     "output_type": "stream",
     "text": [
      "2.3841 sec\n"
     ]
    },
    {
     "data": {
      "text/plain": [
       "'삼성전자는 다음 워치5와 워치 4 시리즈에 카메라 줌 인, 줌 아웃 기능을 추가한다고 밝히며 다음 달 진행되는 갤럭시 언팩에서 새로운 갤럭시 스마트폰과 관련된 더 많은 내용을 소개할 것 이라고 말했다  \\n 삼성전자는 다음 달 갤럭시 워치5와 워치 4 시리즈에 카메라 줌 인, 줌 아웃 기능을 추가한다고 전했다.'"
      ]
     },
     "execution_count": 142,
     "metadata": {},
     "output_type": "execute_result"
    }
   ],
   "source": [
    "result2 = summarize_topic(document_df, 2)\n",
    "result2"
   ]
  },
  {
   "cell_type": "code",
   "execution_count": 143,
   "id": "6e592a6d-cd9b-48f7-8ba6-436bc1474c1a",
   "metadata": {},
   "outputs": [
    {
     "name": "stdout",
     "output_type": "stream",
     "text": [
      "2.5630 sec\n"
     ]
    },
    {
     "data": {
      "text/plain": [
       "'스마트폰을 먼 거리에 세워두고 단체 사진이나 단독 셀카를 찍을 때 카메라가 있는 곳까지 돌아갈 필요 없이 손목에서 바로 손쉽게 화면 배율 조정을 할 수 있게 되어 손목에서 바로 손쉽게 화면 배율 조정을 할 수 있게 되었으며,  \\n 스마트폰을 먼 거리에 세워두고 단체 사진이나 단독 셀카를 찍을 때 카메라가 있는 곳까지 돌아갈 필요 없이 손목에서 바로 손쉽게 화면 배율 조정이 가능해진다.'"
      ]
     },
     "execution_count": 143,
     "metadata": {},
     "output_type": "execute_result"
    }
   ],
   "source": [
    "result3 = summarize_topic(document_df, 3)\n",
    "result3"
   ]
  },
  {
   "cell_type": "code",
   "execution_count": 144,
   "id": "5cede138-f79c-49bf-9e3e-bf0c839527e0",
   "metadata": {},
   "outputs": [
    {
     "name": "stdout",
     "output_type": "stream",
     "text": [
      "2.1447 sec\n"
     ]
    },
    {
     "data": {
      "text/plain": [
       "'360 오디오 레코딩은 차세대 블 루투스 오디오 기술 표 준인 LE 오디오가 적용됐다.  련련련련련련련련련련련련련련련련련련은 차세대 블루투스 오디오 기술 표 준인 LE 오디오를 적용했다.'"
      ]
     },
     "execution_count": 144,
     "metadata": {},
     "output_type": "execute_result"
    }
   ],
   "source": [
    "result4 = summarize_topic(document_df, 4)\n",
    "result4"
   ]
  },
  {
   "cell_type": "code",
   "execution_count": 145,
   "id": "5a6570af-f33e-4aa5-a71c-0b17dc665834",
   "metadata": {},
   "outputs": [
    {
     "name": "stdout",
     "output_type": "stream",
     "text": [
      "2.9359 sec\n"
     ]
    },
    {
     "data": {
      "text/plain": [
       "'전문 장비 없이도 누구나  언제 어디서든 고품질의 실감 나는 오디오를 동영상에 담을 수 있다는 게 삼성전자의 설명으로 사용자는 시계 화면을 손가락으로 늘리거나 줄이는 핀치 동작이나, 시계의 베젤을 돌려 갤럭시 스마트폰의 카메라 줌을 원격으로 제어할 수 있게 되었으며 사용자는 시계 화면을 손가락으로 늘 리거나 줄이는 핀치 동작이나, 시계의 베젤을 돌려 갤럭시 스마트폰의 카메라 줌을 원격으로 제어할 수 있게 되었다.'"
      ]
     },
     "execution_count": 145,
     "metadata": {},
     "output_type": "execute_result"
    }
   ],
   "source": [
    "result5 = summarize_topic(document_df, 5)\n",
    "result5"
   ]
  },
  {
   "cell_type": "code",
   "execution_count": null,
   "id": "d2108c17-fd45-4833-9358-f93250d87fd1",
   "metadata": {},
   "outputs": [],
   "source": []
  }
 ],
 "metadata": {
  "kernelspec": {
   "display_name": "Python 3 (ipykernel)",
   "language": "python",
   "name": "python3"
  },
  "language_info": {
   "codemirror_mode": {
    "name": "ipython",
    "version": 3
   },
   "file_extension": ".py",
   "mimetype": "text/x-python",
   "name": "python",
   "nbconvert_exporter": "python",
   "pygments_lexer": "ipython3",
   "version": "3.8.5"
  }
 },
 "nbformat": 4,
 "nbformat_minor": 5
}
